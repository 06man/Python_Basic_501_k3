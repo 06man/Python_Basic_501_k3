{
 "cells": [
  {
   "cell_type": "code",
   "execution_count": null,
   "id": "initial_id",
   "metadata": {
    "collapsed": true
   },
   "outputs": [],
   "source": [
    ""
   ]
  },
  {
   "metadata": {},
   "cell_type": "code",
   "outputs": [],
   "execution_count": null,
   "source": [
    "# 🔹 기본 실습 1: 리스트 관리 시스템\n",
    "# 문제:\n",
    "# 사용자가 메뉴를 선택하여 리스트에 데이터를\n",
    "# 추가, 수정, 삭제, 조회, 검색할 수 있도록 구현하세요.\n",
    "#\n",
    "# 예시 화면 )\n",
    "# print(\"\\n🔹 리스트 관리 시스템 🔹\")\n",
    "# print(\"1. 추가\")\n",
    "# print(\"2. 수정\")\n",
    "# print(\"3. 삭제\")\n",
    "# print(\"4. 조회\")\n",
    "# print(\"5. 검색\")\n",
    "# print(\"6. 종료\")\n",
    "#\n",
    "# choice = input(\"메뉴 선택: \")"
   ],
   "id": "faa256e77d1d6782"
  },
  {
   "metadata": {
    "ExecuteTime": {
     "end_time": "2025-02-13T06:12:55.852033Z",
     "start_time": "2025-02-13T06:12:22.660467Z"
    }
   },
   "cell_type": "code",
   "source": [
    "my_fruits = []\n",
    "while True:\n",
    "    print(\"\\n🔹 과일 관리 시스템 🔹\")\n",
    "    print(\"1. 추가\")\n",
    "    print(\"2. 수정\")\n",
    "    print(\"3. 삭제\")\n",
    "    print(\"4. 조회\")\n",
    "    print(\"5. 검색\")\n",
    "    print(\"6. 종료\")\n",
    "\n",
    "    choice = input(\"메뉴 선택: \")\n",
    "    if choice == \"1\":\n",
    "        item = input(\"추가할 과일을 작성해주세요:\")\n",
    "        my_fruits.append(item)\n",
    "        print(f\"{item} 추가 되었습니다.\")\n",
    "    elif choice == \"2\":\n",
    "        index = int(\"수정할 인덱스 번호를 설정해주세요\")\n",
    "        if 0 <= index < len(my_fruits):\n",
    "            oldItem = my_fruits[index]\n",
    "            newItem = input(\"수정할 과일을 작성해주세요:\")\n",
    "            my_fruits[index] = newItem\n",
    "            print(f\"{index} 번째 값이 {oldItem}에서 {newItem}으로 변경되었습니다.\")\n",
    "        else:\n",
    "            print(\"유효하지 않는 값입니다.\")\n",
    "    elif choice == \"4\":\n",
    "        print(f\"현재 my_fruits : {my_fruits}\")\n",
    "    elif choice == \"6\":\n",
    "        print(\"프로그램을 종료합니다.\")\n",
    "        break"
   ],
   "id": "3f67dae3b4e4166b",
   "outputs": [
    {
     "name": "stdout",
     "output_type": "stream",
     "text": [
      "\n",
      "🔹 과일 관리 시스템 🔹\n",
      "1. 추가\n",
      "2. 수정\n",
      "3. 삭제\n",
      "4. 조회\n",
      "5. 검색\n",
      "6. 종료\n",
      "사과 추가 되었습니다.\n",
      "\n",
      "🔹 과일 관리 시스템 🔹\n",
      "1. 추가\n",
      "2. 수정\n",
      "3. 삭제\n",
      "4. 조회\n",
      "5. 검색\n",
      "6. 종료\n",
      "바나나 추가 되었습니다.\n",
      "\n",
      "🔹 과일 관리 시스템 🔹\n",
      "1. 추가\n",
      "2. 수정\n",
      "3. 삭제\n",
      "4. 조회\n",
      "5. 검색\n",
      "6. 종료\n"
     ]
    },
    {
     "ename": "KeyboardInterrupt",
     "evalue": "Interrupted by user",
     "output_type": "error",
     "traceback": [
      "\u001B[1;31m---------------------------------------------------------------------------\u001B[0m",
      "\u001B[1;31mKeyboardInterrupt\u001B[0m                         Traceback (most recent call last)",
      "Cell \u001B[1;32mIn[2], line 11\u001B[0m\n\u001B[0;32m      8\u001B[0m \u001B[38;5;28mprint\u001B[39m(\u001B[38;5;124m\"\u001B[39m\u001B[38;5;124m5. 검색\u001B[39m\u001B[38;5;124m\"\u001B[39m)\n\u001B[0;32m      9\u001B[0m \u001B[38;5;28mprint\u001B[39m(\u001B[38;5;124m\"\u001B[39m\u001B[38;5;124m6. 종료\u001B[39m\u001B[38;5;124m\"\u001B[39m)\n\u001B[1;32m---> 11\u001B[0m choice \u001B[38;5;241m=\u001B[39m \u001B[38;5;28;43minput\u001B[39;49m\u001B[43m(\u001B[49m\u001B[38;5;124;43m\"\u001B[39;49m\u001B[38;5;124;43m메뉴 선택: \u001B[39;49m\u001B[38;5;124;43m\"\u001B[39;49m\u001B[43m)\u001B[49m\n\u001B[0;32m     12\u001B[0m \u001B[38;5;28;01mif\u001B[39;00m choice \u001B[38;5;241m==\u001B[39m \u001B[38;5;124m\"\u001B[39m\u001B[38;5;124m1\u001B[39m\u001B[38;5;124m\"\u001B[39m:\n\u001B[0;32m     13\u001B[0m     item \u001B[38;5;241m=\u001B[39m \u001B[38;5;28minput\u001B[39m(\u001B[38;5;124m\"\u001B[39m\u001B[38;5;124m추가할 과일을 작성해주세요:\u001B[39m\u001B[38;5;124m\"\u001B[39m)\n",
      "File \u001B[1;32m~\\AppData\\Roaming\\Python\\Python312\\site-packages\\ipykernel\\kernelbase.py:1282\u001B[0m, in \u001B[0;36mKernel.raw_input\u001B[1;34m(self, prompt)\u001B[0m\n\u001B[0;32m   1280\u001B[0m     msg \u001B[38;5;241m=\u001B[39m \u001B[38;5;124m\"\u001B[39m\u001B[38;5;124mraw_input was called, but this frontend does not support input requests.\u001B[39m\u001B[38;5;124m\"\u001B[39m\n\u001B[0;32m   1281\u001B[0m     \u001B[38;5;28;01mraise\u001B[39;00m StdinNotImplementedError(msg)\n\u001B[1;32m-> 1282\u001B[0m \u001B[38;5;28;01mreturn\u001B[39;00m \u001B[38;5;28;43mself\u001B[39;49m\u001B[38;5;241;43m.\u001B[39;49m\u001B[43m_input_request\u001B[49m\u001B[43m(\u001B[49m\n\u001B[0;32m   1283\u001B[0m \u001B[43m    \u001B[49m\u001B[38;5;28;43mstr\u001B[39;49m\u001B[43m(\u001B[49m\u001B[43mprompt\u001B[49m\u001B[43m)\u001B[49m\u001B[43m,\u001B[49m\n\u001B[0;32m   1284\u001B[0m \u001B[43m    \u001B[49m\u001B[38;5;28;43mself\u001B[39;49m\u001B[38;5;241;43m.\u001B[39;49m\u001B[43m_parent_ident\u001B[49m\u001B[43m[\u001B[49m\u001B[38;5;124;43m\"\u001B[39;49m\u001B[38;5;124;43mshell\u001B[39;49m\u001B[38;5;124;43m\"\u001B[39;49m\u001B[43m]\u001B[49m\u001B[43m,\u001B[49m\n\u001B[0;32m   1285\u001B[0m \u001B[43m    \u001B[49m\u001B[38;5;28;43mself\u001B[39;49m\u001B[38;5;241;43m.\u001B[39;49m\u001B[43mget_parent\u001B[49m\u001B[43m(\u001B[49m\u001B[38;5;124;43m\"\u001B[39;49m\u001B[38;5;124;43mshell\u001B[39;49m\u001B[38;5;124;43m\"\u001B[39;49m\u001B[43m)\u001B[49m\u001B[43m,\u001B[49m\n\u001B[0;32m   1286\u001B[0m \u001B[43m    \u001B[49m\u001B[43mpassword\u001B[49m\u001B[38;5;241;43m=\u001B[39;49m\u001B[38;5;28;43;01mFalse\u001B[39;49;00m\u001B[43m,\u001B[49m\n\u001B[0;32m   1287\u001B[0m \u001B[43m\u001B[49m\u001B[43m)\u001B[49m\n",
      "File \u001B[1;32m~\\AppData\\Roaming\\Python\\Python312\\site-packages\\ipykernel\\kernelbase.py:1325\u001B[0m, in \u001B[0;36mKernel._input_request\u001B[1;34m(self, prompt, ident, parent, password)\u001B[0m\n\u001B[0;32m   1322\u001B[0m \u001B[38;5;28;01mexcept\u001B[39;00m \u001B[38;5;167;01mKeyboardInterrupt\u001B[39;00m:\n\u001B[0;32m   1323\u001B[0m     \u001B[38;5;66;03m# re-raise KeyboardInterrupt, to truncate traceback\u001B[39;00m\n\u001B[0;32m   1324\u001B[0m     msg \u001B[38;5;241m=\u001B[39m \u001B[38;5;124m\"\u001B[39m\u001B[38;5;124mInterrupted by user\u001B[39m\u001B[38;5;124m\"\u001B[39m\n\u001B[1;32m-> 1325\u001B[0m     \u001B[38;5;28;01mraise\u001B[39;00m \u001B[38;5;167;01mKeyboardInterrupt\u001B[39;00m(msg) \u001B[38;5;28;01mfrom\u001B[39;00m \u001B[38;5;28;01mNone\u001B[39;00m\n\u001B[0;32m   1326\u001B[0m \u001B[38;5;28;01mexcept\u001B[39;00m \u001B[38;5;167;01mException\u001B[39;00m:\n\u001B[0;32m   1327\u001B[0m     \u001B[38;5;28mself\u001B[39m\u001B[38;5;241m.\u001B[39mlog\u001B[38;5;241m.\u001B[39mwarning(\u001B[38;5;124m\"\u001B[39m\u001B[38;5;124mInvalid Message:\u001B[39m\u001B[38;5;124m\"\u001B[39m, exc_info\u001B[38;5;241m=\u001B[39m\u001B[38;5;28;01mTrue\u001B[39;00m)\n",
      "\u001B[1;31mKeyboardInterrupt\u001B[0m: Interrupted by user"
     ]
    }
   ],
   "execution_count": 2
  }
 ],
 "metadata": {
  "kernelspec": {
   "display_name": "Python 3",
   "language": "python",
   "name": "python3"
  },
  "language_info": {
   "codemirror_mode": {
    "name": "ipython",
    "version": 2
   },
   "file_extension": ".py",
   "mimetype": "text/x-python",
   "name": "python",
   "nbconvert_exporter": "python",
   "pygments_lexer": "ipython2",
   "version": "2.7.6"
  }
 },
 "nbformat": 4,
 "nbformat_minor": 5
}
