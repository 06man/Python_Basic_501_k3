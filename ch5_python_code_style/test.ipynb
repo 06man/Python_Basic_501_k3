{
 "cells": [
  {
   "cell_type": "code",
   "id": "initial_id",
   "metadata": {
    "collapsed": true,
    "ExecuteTime": {
     "end_time": "2025-02-13T07:04:00.233372Z",
     "start_time": "2025-02-13T07:04:00.227701Z"
    }
   },
   "source": [
    "# 기존에 새리스트 추가시, 반복문이나, 안에 로직을 이용해서, 작업.\n",
    "\n",
    "# 컴프리헨션으로 작업을 하면, 해당 리스트에 반복문을 주입해서, 바로 생성.\n",
    "\n",
    "result = [i for i in range(5)]\n",
    "print(f\"result 조회 : {result}\")"
   ],
   "outputs": [
    {
     "name": "stdout",
     "output_type": "stream",
     "text": [
      "result 조회 : [0, 1, 2, 3, 4]\n"
     ]
    }
   ],
   "execution_count": 1
  },
  {
   "metadata": {
    "ExecuteTime": {
     "end_time": "2025-02-13T07:08:30.766938Z",
     "start_time": "2025-02-13T07:08:30.761657Z"
    }
   },
   "cell_type": "code",
   "source": [
    "\n",
    "# 컴프리헨션으로 작업을 하면, 해당 리스트에 반복문을 주입해서, 바로 생성.\n",
    "# 조건문 추가하기.\n",
    "result = [i for i in range(5) if i % 2 ==0]\n",
    "print(f\"result 조회 : {result}\")"
   ],
   "id": "122334b783c7942e",
   "outputs": [
    {
     "name": "stdout",
     "output_type": "stream",
     "text": [
      "result 조회 : [0, 2, 4]\n"
     ]
    }
   ],
   "execution_count": 2
  },
  {
   "metadata": {
    "ExecuteTime": {
     "end_time": "2025-02-13T07:08:34.860696Z",
     "start_time": "2025-02-13T07:08:34.856044Z"
    }
   },
   "cell_type": "code",
   "source": [
    "# 조건문 추가하기. else 문 추가.\n",
    "result = [i if i % 2 ==0 else 77 for i in range(5) ]\n",
    "print(f\"result 조회 : {result}\")"
   ],
   "id": "8c0aa79416857bed",
   "outputs": [
    {
     "name": "stdout",
     "output_type": "stream",
     "text": [
      "result 조회 : [0, 77, 2, 77, 4]\n"
     ]
    }
   ],
   "execution_count": 3
  },
  {
   "metadata": {
    "ExecuteTime": {
     "end_time": "2025-02-13T07:12:17.186519Z",
     "start_time": "2025-02-13T07:12:17.181531Z"
    }
   },
   "cell_type": "code",
   "source": [
    "# 중첩 반복문 이용하기.\n",
    "test1 = \"abc\"\n",
    "test2 = \"123\"\n",
    "\n",
    "result = [i+j for i in test1 for j in test2]\n",
    "print(f\"result 조회 : {result}\")"
   ],
   "id": "ba5502a6b8625457",
   "outputs": [
    {
     "name": "stdout",
     "output_type": "stream",
     "text": [
      "result 조회 : ['a1', 'a2', 'a3', 'b1', 'b2', 'b3', 'c1', 'c2', 'c3']\n"
     ]
    }
   ],
   "execution_count": 4
  },
  {
   "metadata": {
    "ExecuteTime": {
     "end_time": "2025-02-13T07:14:55.486178Z",
     "start_time": "2025-02-13T07:14:55.479186Z"
    }
   },
   "cell_type": "code",
   "source": [
    "\n",
    "# 중첩 반복문 이용하기. 조건 붙이기 필터링\n",
    "test1 = [\"a\",\"b\",\"c\"]\n",
    "test2 = [\"a\",\"b\",\"c\"]\n",
    "\n",
    "result = [i+j for i in test1 for j in test2 if not(i==j)]\n",
    "print(f\"result 조회 : {result}\")"
   ],
   "id": "4f4b644485c1fa2c",
   "outputs": [
    {
     "name": "stdout",
     "output_type": "stream",
     "text": [
      "result 조회 : ['ab', 'ac', 'ba', 'bc', 'ca', 'cb']\n"
     ]
    }
   ],
   "execution_count": 5
  },
  {
   "metadata": {
    "ExecuteTime": {
     "end_time": "2025-02-13T07:18:57.872676Z",
     "start_time": "2025-02-13T07:18:57.867051Z"
    }
   },
   "cell_type": "code",
   "source": [
    "# 리스트 안에 리스트 : 이중 리스트 , 엄청 많이 사용됨.,\n",
    "\n",
    "test1 = [\"a\",\"b\",\"c\"]\n",
    "test2 = [\"1\",\"2\",\"3\"]\n",
    "\n",
    "result = [[i+j for i in test1] for j in test2]\n",
    "print(f\"result 조회 : {result}\")"
   ],
   "id": "6e0fc03c70d527f1",
   "outputs": [
    {
     "name": "stdout",
     "output_type": "stream",
     "text": [
      "result 조회 : [['a1', 'b1', 'c1'], ['a2', 'b2', 'c2'], ['a3', 'b3', 'c3']]\n"
     ]
    }
   ],
   "execution_count": 6
  },
  {
   "metadata": {},
   "cell_type": "code",
   "outputs": [],
   "execution_count": null,
   "source": [
    "\n",
    "# 기존의 반복문으로 새 리스트를 추가하는 것보다\n",
    "# 컴프리헨션을 이용해서, 새 리스트를 추가하는 것이 성능상 더 좋다.\n",
    "# 기존 리스트 -> Numpy 로 배열로 갈아 타기. 더 성능이 더 좋다.\n"
   ],
   "id": "939f5ec580083898"
  },
  {
   "metadata": {
    "ExecuteTime": {
     "end_time": "2025-02-13T07:30:42.040133Z",
     "start_time": "2025-02-13T07:30:42.035326Z"
    }
   },
   "cell_type": "code",
   "source": [
    "for i,v in enumerate([\"a\",\"b\",\"c\"]):\n",
    "    print(f\"i, v : {i}, v : {v}\")\n",
    "print(type(enumerate([\"a\",\"b\",\"c\"])))"
   ],
   "id": "1d26f238f712eb4a",
   "outputs": [
    {
     "name": "stdout",
     "output_type": "stream",
     "text": [
      "i, v : 0, v : a\n",
      "i, v : 1, v : b\n",
      "i, v : 2, v : c\n",
      "<class 'enumerate'>\n"
     ]
    }
   ],
   "execution_count": 8
  },
  {
   "metadata": {
    "ExecuteTime": {
     "end_time": "2025-02-13T07:32:57.772178Z",
     "start_time": "2025-02-13T07:32:57.767652Z"
    }
   },
   "cell_type": "code",
   "source": [
    "\n",
    "# zip 함수 , 1개 이상의 리스트값이 같은 인덱스에 있다면, 묶어서 같이 출력.\n",
    "test1 = [\"a\",\"b\",\"c\",\"d\"]\n",
    "test2 = [\"1\",\"2\",\"3\"]\n",
    "\n",
    "for a,b in zip(test1,test2):\n",
    "  print(f\"a ,b 조회 : {a}:{b}\")"
   ],
   "id": "1fa272672c4af14b",
   "outputs": [
    {
     "name": "stdout",
     "output_type": "stream",
     "text": [
      "a ,b 조회 : a:1\n",
      "a ,b 조회 : b:2\n",
      "a ,b 조회 : c:3\n"
     ]
    }
   ],
   "execution_count": 11
  },
  {
   "metadata": {
    "ExecuteTime": {
     "end_time": "2025-02-13T07:34:17.830571Z",
     "start_time": "2025-02-13T07:34:17.821695Z"
    }
   },
   "cell_type": "code",
   "source": [
    "# zip 함수 이용해서, 각 인덱스끼리 묶기,\n",
    "print(zip((1,2,3),(4,5,6), (7,8,9)))\n",
    "a, b, c = zip((1,2,3),(4,5,6), (7,8,9))\n",
    "print(f\"a ,b , c조회 : {a}, {b}, {c}\")\n",
    "\n",
    "# 각 인덱스 요소를 합 구하기.\n",
    "result = [sum(x) for x in zip((1,2,3),(4,5,6), (7,8,9))]\n",
    "print(f\"result 조회 : {result}\")"
   ],
   "id": "22cb4eab9582fb27",
   "outputs": [
    {
     "name": "stdout",
     "output_type": "stream",
     "text": [
      "<zip object at 0x000002184721E800>\n",
      "a ,b , c조회 : (1, 4, 7), (2, 5, 8), (3, 6, 9)\n",
      "result 조회 : [12, 15, 18]\n"
     ]
    }
   ],
   "execution_count": 12
  },
  {
   "metadata": {},
   "cell_type": "code",
   "outputs": [],
   "execution_count": null,
   "source": "",
   "id": "c46af6164fd395fa"
  }
 ],
 "metadata": {
  "kernelspec": {
   "display_name": "Python 3",
   "language": "python",
   "name": "python3"
  },
  "language_info": {
   "codemirror_mode": {
    "name": "ipython",
    "version": 2
   },
   "file_extension": ".py",
   "mimetype": "text/x-python",
   "name": "python",
   "nbconvert_exporter": "python",
   "pygments_lexer": "ipython2",
   "version": "2.7.6"
  }
 },
 "nbformat": 4,
 "nbformat_minor": 5
}
