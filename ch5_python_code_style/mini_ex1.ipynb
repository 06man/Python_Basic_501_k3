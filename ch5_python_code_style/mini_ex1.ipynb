{
 "cells": [
  {
   "cell_type": "code",
   "id": "initial_id",
   "metadata": {
    "collapsed": true,
    "ExecuteTime": {
     "end_time": "2025-02-14T00:32:44.410256Z",
     "start_time": "2025-02-14T00:32:44.404719Z"
    }
   },
   "source": [
    "# 🔹 기본 실습 1: 리스트 컴프리헨션을 활용한 제곱 리스트 만들기\n",
    "#\n",
    "# 문제:\n",
    "# 1부터 10까지 숫자의 제곱을 포함하는 리스트를 리스트 컴프리헨션을 사용하여 생성하세요.\n",
    "comprehensionList = [x*x for x in range(1,11)]\n",
    "print(comprehensionList)"
   ],
   "outputs": [
    {
     "name": "stdout",
     "output_type": "stream",
     "text": [
      "[1, 4, 9, 16, 25, 36, 49, 64, 81, 100]\n"
     ]
    }
   ],
   "execution_count": 8
  },
  {
   "metadata": {
    "ExecuteTime": {
     "end_time": "2025-02-14T00:32:47.122926Z",
     "start_time": "2025-02-14T00:32:47.117952Z"
    }
   },
   "cell_type": "code",
   "source": [
    "# 🔹 기본 실습 2: enumerate()를 활용한 인덱스와 값 출력\n",
    "#\n",
    "# 문제:\n",
    "# 주어진 리스트의 각 요소와 해당 인덱스를 함께 출력하는 코드를 작성하세요.\n",
    "#\n",
    "fruits = [\"사과\", \"바나나\", \"체리\"]\n",
    "for index,fruit in enumerate(fruits):\n",
    "    print(fruit, index)"
   ],
   "id": "43c7137364ca5a90",
   "outputs": [
    {
     "name": "stdout",
     "output_type": "stream",
     "text": [
      "사과 0\n",
      "바나나 1\n",
      "체리 2\n"
     ]
    }
   ],
   "execution_count": 9
  },
  {
   "metadata": {
    "ExecuteTime": {
     "end_time": "2025-02-14T00:32:49.205973Z",
     "start_time": "2025-02-14T00:32:49.201752Z"
    }
   },
   "cell_type": "code",
   "source": [
    "# 🔹 기본 실습 3: zip()을 활용한 두 리스트 묶기\n",
    "#\n",
    "# 문제:\n",
    "# 이름 리스트와 점수 리스트를 zip()을 사용하여 결합하고,\n",
    "# 이름과 점수를 함께 출력하는 프로그램을 작성하세요.\n",
    "\n",
    "names = [\"철수\", \"영희\", \"민수\"]\n",
    "scores = [85, 90, 78]\n",
    "print(zip(names, scores))\n",
    "for name, score in zip(names, scores):\n",
    "    #(\"철수\",85), (\"영희\",90), (\"민수\",78)\n",
    "    print(name, score)"
   ],
   "id": "7146ae199e908b76",
   "outputs": [
    {
     "name": "stdout",
     "output_type": "stream",
     "text": [
      "<zip object at 0x000001B46632D940>\n",
      "철수 85\n",
      "영희 90\n",
      "민수 78\n"
     ]
    }
   ],
   "execution_count": 10
  },
  {
   "metadata": {
    "ExecuteTime": {
     "end_time": "2025-02-14T00:49:46.164956Z",
     "start_time": "2025-02-14T00:49:46.159668Z"
    }
   },
   "cell_type": "code",
   "source": [
    "# 🔹 응용 실습 1: 람다 함수와 map()을 활용한 리스트 변환\n",
    "#\n",
    "# 문제:\n",
    "# 주어진 정수 리스트에서 각 숫자의 세제곱을 구하는\n",
    "# 프로그램을 람다 함수와 map()을 사용하여 작성하세요.\n",
    "# map(함수,리스트)\n",
    "\n",
    "numbers = [1, 2, 3, 4, 5]\n",
    "result = list(map(lambda x: x ** 3, numbers))\n",
    "print(result)"
   ],
   "id": "547cde4f8aa222bd",
   "outputs": [
    {
     "name": "stdout",
     "output_type": "stream",
     "text": [
      "[1, 8, 27, 64, 125]\n"
     ]
    }
   ],
   "execution_count": 2
  },
  {
   "metadata": {
    "ExecuteTime": {
     "end_time": "2025-02-14T00:39:44.664363Z",
     "start_time": "2025-02-14T00:39:44.659967Z"
    }
   },
   "cell_type": "code",
   "source": [
    "# 🔹 응용 실습 2: 가변인수(*args)를 활용한 숫자 합산 함수\n",
    "#\n",
    "# 문제:\n",
    "# 가변인수 *args를 활용하여 여러 개의 숫자를 입력받고,\n",
    "# 그 합을 반환하는 함수를 작성하세요.\n",
    "def sumA(*args):\n",
    "    return sum(args)\n",
    "print(sumA(1,2,3,4))\n",
    "print(sumA(1,2,3,4,5))"
   ],
   "id": "8939811595bce65a",
   "outputs": [
    {
     "name": "stdout",
     "output_type": "stream",
     "text": [
      "10\n",
      "15\n"
     ]
    }
   ],
   "execution_count": 19
  },
  {
   "metadata": {
    "ExecuteTime": {
     "end_time": "2025-02-14T00:40:57.818931Z",
     "start_time": "2025-02-14T00:40:57.814907Z"
    }
   },
   "cell_type": "code",
   "source": [
    "# 🔹 응용 실습 3: 키워드 가변인수(**kwargs)를 활용한 사용자 정보 출력\n",
    "#\n",
    "# 문제:\n",
    "# 사용자의 정보를 입력받아 **kwargs를 활용하여 출력하는 함수를 작성하세요.\n",
    "def printB(**kwargs):\n",
    "    for key, value in kwargs.items():\n",
    "        print(key, value)\n",
    "printB(name=\"lsy\", menu=\"된장찌개\")"
   ],
   "id": "e8bc1e1ce2fa4e44",
   "outputs": [
    {
     "name": "stdout",
     "output_type": "stream",
     "text": [
      "name lsy\n",
      "menu 된장찌개\n"
     ]
    }
   ],
   "execution_count": 20
  },
  {
   "metadata": {
    "ExecuteTime": {
     "end_time": "2025-02-14T00:42:58.758288Z",
     "start_time": "2025-02-14T00:42:58.753732Z"
    }
   },
   "cell_type": "code",
   "source": [
    "# 🔹 응용 실습 4: 별표(*) 언패킹 기능을 활용한 리스트 합치기\n",
    "#\n",
    "# 문제:\n",
    "# 두 개의 리스트를 * 언패킹 기능을 활용하여 하나의 리스트로 합치는 프로그램을 작성하세요.\n",
    "list1 = [1, 2, 3, 4, 5]\n",
    "list2 = [6, 7, 8, 9]\n",
    "\n",
    "mergedList = [list1, list2]\n",
    "print(mergedList)\n",
    "mergedList2 = [*list1, *list2]\n",
    "print(mergedList2)"
   ],
   "id": "8b0de865fb1d2d64",
   "outputs": [
    {
     "name": "stdout",
     "output_type": "stream",
     "text": [
      "[[1, 2, 3, 4, 5], [6, 7, 8, 9]]\n",
      "[1, 2, 3, 4, 5, 6, 7, 8, 9]\n"
     ]
    }
   ],
   "execution_count": 23
  }
 ],
 "metadata": {
  "kernelspec": {
   "display_name": "Python 3",
   "language": "python",
   "name": "python3"
  },
  "language_info": {
   "codemirror_mode": {
    "name": "ipython",
    "version": 2
   },
   "file_extension": ".py",
   "mimetype": "text/x-python",
   "name": "python",
   "nbconvert_exporter": "python",
   "pygments_lexer": "ipython2",
   "version": "2.7.6"
  }
 },
 "nbformat": 4,
 "nbformat_minor": 5
}
