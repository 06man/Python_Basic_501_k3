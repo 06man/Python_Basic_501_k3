{
 "cells": [
  {
   "cell_type": "code",
   "execution_count": null,
   "metadata": {},
   "outputs": [
    {
     "name": "stdout",
     "output_type": "stream",
     "text": [
      "\n",
      "📞 전화번호부 관리 시스템 📞\n",
      "1. 추가\n",
      "2. 수정\n",
      "3. 삭제\n",
      "4. 조회\n",
      "5. 검색\n",
      "6. 종료\n",
      "lsy님의 전화번호가 추가되었습니다.\n",
      "\n",
      "📞 전화번호부 관리 시스템 📞\n",
      "1. 추가\n",
      "2. 수정\n",
      "3. 삭제\n",
      "4. 조회\n",
      "5. 검색\n",
      "6. 종료\n",
      "lsy2님의 전화번호가 추가되었습니다.\n",
      "\n",
      "📞 전화번호부 관리 시스템 📞\n",
      "1. 추가\n",
      "2. 수정\n",
      "3. 삭제\n",
      "4. 조회\n",
      "5. 검색\n",
      "6. 종료\n",
      "lsy3님의 전화번호가 추가되었습니다.\n",
      "\n",
      "📞 전화번호부 관리 시스템 📞\n",
      "1. 추가\n",
      "2. 수정\n",
      "3. 삭제\n",
      "4. 조회\n",
      "5. 검색\n",
      "6. 종료\n",
      "\n",
      "📖 전화번호부 목록 📖\n",
      "lsy: 1111\n",
      "lsy2: 2222\n",
      "lsy3: 3333\n",
      "\n",
      "📞 전화번호부 관리 시스템 📞\n",
      "1. 추가\n",
      "2. 수정\n",
      "3. 삭제\n",
      "4. 조회\n",
      "5. 검색\n",
      "6. 종료\n",
      "\n",
      "📖 전화번호부 목록 📖\n",
      "lsy: 1111\n",
      "lsy2: 2222\n",
      "lsy3: 3333\n",
      "\n",
      "📞 전화번호부 관리 시스템 📞\n",
      "1. 추가\n",
      "2. 수정\n",
      "3. 삭제\n",
      "4. 조회\n",
      "5. 검색\n",
      "6. 종료\n",
      "\n",
      "📖 전화번호부 목록 📖\n",
      "lsy: 1111\n",
      "lsy2: 2222\n",
      "lsy3: 3333\n",
      "\n",
      "📞 전화번호부 관리 시스템 📞\n",
      "1. 추가\n",
      "2. 수정\n",
      "3. 삭제\n",
      "4. 조회\n",
      "5. 검색\n",
      "6. 종료\n",
      "lsy님의 전화번호: 1111\n",
      "\n",
      "📞 전화번호부 관리 시스템 📞\n",
      "1. 추가\n",
      "2. 수정\n",
      "3. 삭제\n",
      "4. 조회\n",
      "5. 검색\n",
      "6. 종료\n",
      "해당 이름이 존재하지 않습니다.\n",
      "\n",
      "📞 전화번호부 관리 시스템 📞\n",
      "1. 추가\n",
      "2. 수정\n",
      "3. 삭제\n",
      "4. 조회\n",
      "5. 검색\n",
      "6. 종료\n",
      "프로그램을 종료합니다.\n"
     ]
    }
   ],
   "source": []
  },
  {
   "cell_type": "markdown",
   "metadata": {},
   "source": [
    "#미니실습 #파이썬기초 #bigdata_with_python\n",
    "\n",
    "\n",
    "\n",
    "\n",
    "\n",
    "\n",
    "\n",
    "\n",
    "\n",
    "\n",
    "\n",
    "\n",
    "\n",
    "\n"
   ]
  },
  {
   "cell_type": "code",
   "execution_count": 6,
   "metadata": {},
   "outputs": [
    {
     "data": {
      "text/plain": [
       "0"
      ]
     },
     "execution_count": 6,
     "metadata": {},
     "output_type": "execute_result"
    }
   ],
   "source": [
    "# 🔹 기본 실습 1: 문자열 길이 구하기\n",
    "# 문제:\n",
    "# 사용자로부터 문자열을 입력받아, 해당 문자열의 길이를 출력하는 함수를 작성하세요.\n",
    "def str_length(str):\n",
    "    result = len(str)\n",
    "    return result\n",
    "input_str = input(\"문자열을 입력해주세요: \")\n",
    "str_length(input_str)\n",
    "\n"
   ]
  },
  {
   "cell_type": "code",
   "execution_count": 7,
   "metadata": {},
   "outputs": [
    {
     "data": {
      "text/plain": [
       "''"
      ]
     },
     "execution_count": 7,
     "metadata": {},
     "output_type": "execute_result"
    }
   ],
   "source": [
    "# 🔹 기본 실습 2: 문자열 뒤집기\n",
    "# 문제:\n",
    "# 사용자로부터 문자열을 입력받아, \n",
    "# 해당 문자열을 뒤집어 반환하는 함수를 작성하세요.\n",
    "def reverse_str(str):\n",
    "    return str[::-1]\n",
    "input_str = input(\"문자열을 입력해주세요: \")\n",
    "#오늘 점심 뭐 먹나요?\n",
    "reverse_str(input_str)"
   ]
  },
  {
   "cell_type": "code",
   "execution_count": 9,
   "metadata": {},
   "outputs": [
    {
     "data": {
      "text/plain": [
       "1"
      ]
     },
     "execution_count": 9,
     "metadata": {},
     "output_type": "execute_result"
    }
   ],
   "source": [
    "# 🔹 기본 실습 3: 특정 문자 개수 세기\n",
    "# 문제:\n",
    "# 사용자로부터 문자열과 특정 문자를 입력받아, \n",
    "# 해당 문자가 문자열에 몇 개 포함되어 있는지 세는 함수를 작성하세요.\n",
    "def count_str(str, search):\n",
    "    result = str.count(search)\n",
    "    return result\n",
    "input_str = input(\"문자열을 입력해주세요: \")\n",
    "#오늘 점심 뭐 먹나요?\n",
    "count_str(input_str, \"점심\")"
   ]
  },
  {
   "cell_type": "code",
   "execution_count": 11,
   "metadata": {},
   "outputs": [
    {
     "name": "stdout",
     "output_type": "stream",
     "text": [
      "result : ['오늘', '점심', '뭐', '먹나요?']\n"
     ]
    },
    {
     "data": {
      "text/plain": [
       "Counter({'오늘': 1, '점심': 1, '뭐': 1, '먹나요?': 1})"
      ]
     },
     "execution_count": 11,
     "metadata": {},
     "output_type": "execute_result"
    }
   ],
   "source": [
    "# 🔹 응용 실습 1: 문자열 내 단어 개수 세기\n",
    "\n",
    "# 문제:\n",
    "# 사용자로부터 문장을 입력받아, \n",
    "# 해당 문장에 포함된 단어의 개수를 \n",
    "# 반환하는 함수를 작성하세요.\n",
    "from collections import Counter\n",
    "def count_word(words):\n",
    "    result = words.split()\n",
    "    print(f\"result : {result}\")\n",
    "    # return len(result)\n",
    "    return Counter(result)\n",
    "input_str = input(\"문자열을 입력해주세요: \")\n",
    "# 오늘 점심 뭐 먹나요?\n",
    "count_word(input_str)"
   ]
  },
  {
   "cell_type": "code",
   "execution_count": 12,
   "metadata": {},
   "outputs": [
    {
     "data": {
      "text/plain": [
       "'WHAT DID YOU HAVE A LUNCH?'"
      ]
     },
     "execution_count": 12,
     "metadata": {},
     "output_type": "execute_result"
    }
   ],
   "source": [
    "# 🔹 응용 실습 2: 대소문자 변환하기\n",
    "# 문제:\n",
    "# 사용자로부터 문자열을 입력받아, \n",
    "# 모든 소문자를 대문자로, 대문자를 소문자로 변환하는 함수를 작성하세요.\n",
    "def chage_word_type(str):\n",
    "    return str.swapcase()\n",
    "input_str = input(\"문자열을 입력해주세요: \")\n",
    "# 오늘 점심 뭐 먹나요?\n",
    "# what did you have a lunch?\n",
    "chage_word_type(input_str)\n",
    "\n"
   ]
  },
  {
   "cell_type": "code",
   "execution_count": 13,
   "metadata": {},
   "outputs": [
    {
     "name": "stdout",
     "output_type": "stream",
     "text": [
      "앞 뒤가 동일한 문자입니다.\n"
     ]
    }
   ],
   "source": [
    "# 🔹 응용 실습 3: 회문(팰린드롬) 검사하기\n",
    "# 문제:\n",
    "# 사용자가 입력한 문자열이 회문(앞뒤가 동일한 문자열)인지 \n",
    "# 확인하는 함수를 작성하세요.\n",
    "\n",
    "def equal_first_end(str):\n",
    "    return str == str[::-1]\n",
    "\n",
    "input_str = input(\"문자열을 입력해주세요: \")\n",
    "\n",
    "if equal_first_end(input_str):\n",
    "    print(\"앞 뒤가 동일한 문자입니다.\")\n",
    "else:\n",
    "    print(\"앞 뒤가 다른 문자입니다.\")\n"
   ]
  },
  {
   "cell_type": "code",
   "execution_count": null,
   "metadata": {},
   "outputs": [],
   "source": []
  },
  {
   "cell_type": "code",
   "execution_count": null,
   "metadata": {},
   "outputs": [],
   "source": []
  }
 ],
 "metadata": {
  "kernelspec": {
   "display_name": "Python 3",
   "language": "python",
   "name": "python3"
  },
  "language_info": {
   "codemirror_mode": {
    "name": "ipython",
    "version": 3
   },
   "file_extension": ".py",
   "mimetype": "text/x-python",
   "name": "python",
   "nbconvert_exporter": "python",
   "pygments_lexer": "ipython3",
   "version": "3.13.2"
  }
 },
 "nbformat": 4,
 "nbformat_minor": 2
}
