{
 "cells": [
  {
   "cell_type": "code",
   "id": "initial_id",
   "metadata": {
    "collapsed": true,
    "ExecuteTime": {
     "end_time": "2025-02-14T08:01:44.529699Z",
     "start_time": "2025-02-14T08:01:40.543245Z"
    }
   },
   "source": [
    "import numpy as np\n",
    "\n",
    "file_path = r\"D:\\0-python-work-pycacharmPro-ver\\ch7-numpy-pandas-matplotlib\\ratings.dat\"\n",
    "\n",
    "# 데이터 로드 (delimiter=\"::\"는 문제가 되므로 np.genfromtxt() 사용)\n",
    "data = np.genfromtxt(file_path, delimiter=\"::\", dtype=np.int64, encoding=\"utf-8\", autostrip=True)\n"
   ],
   "outputs": [],
   "execution_count": 17
  },
  {
   "metadata": {
    "ExecuteTime": {
     "end_time": "2025-02-14T06:26:21.533616Z",
     "start_time": "2025-02-14T06:26:21.526236Z"
    }
   },
   "cell_type": "code",
   "source": [
    "#UserID::MovieID::Rating::Timestamp\n",
    "data[:5,:]"
   ],
   "id": "f8e53748c7d91f9c",
   "outputs": [
    {
     "data": {
      "text/plain": [
       "array([[        1,      1193,         5, 978300760],\n",
       "       [        1,       661,         3, 978302109],\n",
       "       [        1,       914,         3, 978301968],\n",
       "       [        1,      3408,         4, 978300275],\n",
       "       [        1,      2355,         5, 978824291]])"
      ]
     },
     "execution_count": 9,
     "metadata": {},
     "output_type": "execute_result"
    }
   ],
   "execution_count": 9
  },
  {
   "metadata": {
    "ExecuteTime": {
     "end_time": "2025-02-14T06:27:50.554525Z",
     "start_time": "2025-02-14T06:27:50.548692Z"
    }
   },
   "cell_type": "code",
   "source": "data.shape",
   "id": "c33f02c20d7844c3",
   "outputs": [
    {
     "data": {
      "text/plain": [
       "(1000209, 4)"
      ]
     },
     "execution_count": 11,
     "metadata": {},
     "output_type": "execute_result"
    }
   ],
   "execution_count": 11
  },
  {
   "metadata": {
    "ExecuteTime": {
     "end_time": "2025-02-14T06:30:24.487088Z",
     "start_time": "2025-02-14T06:30:24.464605Z"
    }
   },
   "cell_type": "code",
   "source": [
    "mean_rating_total=data[:,2].mean() #data[:,2] 전체 행, 2번째 열\n",
    "mean_rating_total"
   ],
   "id": "e216b2975f8528f7",
   "outputs": [
    {
     "data": {
      "text/plain": [
       "np.float64(3.581564453029317)"
      ]
     },
     "execution_count": 12,
     "metadata": {},
     "output_type": "execute_result"
    }
   ],
   "execution_count": 12
  },
  {
   "metadata": {
    "ExecuteTime": {
     "end_time": "2025-02-14T06:31:56.400956Z",
     "start_time": "2025-02-14T06:31:56.331981Z"
    }
   },
   "cell_type": "code",
   "source": [
    "user_ids=np.unique(data[:,0])\n",
    "print(user_ids)\n",
    "print(len(user_ids))"
   ],
   "id": "87d1293c02d369c8",
   "outputs": [
    {
     "name": "stdout",
     "output_type": "stream",
     "text": [
      "[   1    2    3 ... 6038 6039 6040]\n",
      "6040\n"
     ]
    }
   ],
   "execution_count": 13
  },
  {
   "metadata": {
    "ExecuteTime": {
     "end_time": "2025-02-14T06:35:42.951084Z",
     "start_time": "2025-02-14T06:35:17.477167Z"
    }
   },
   "cell_type": "code",
   "source": [
    "mean_values=[]\n",
    "for user_id in user_ids:\n",
    "    # 유저가 남긴 모든 영화 평점에 대해서 모두 수집\n",
    " data_for_user=data[data[:,0]==user_id,:]\n",
    "    # 수집된 모든 평점을 평균화,\n",
    " value=data_for_user[:,2].mean()\n",
    " mean_values.append([user_id,value])\n",
    "mean_values[:5] # 전체에서0~6번행까지만출"
   ],
   "id": "3ea8971b2afee7f5",
   "outputs": [
    {
     "data": {
      "text/plain": [
       "[[np.int64(1), np.float64(4.188679245283019)],\n",
       " [np.int64(2), np.float64(3.7131782945736433)],\n",
       " [np.int64(3), np.float64(3.9019607843137254)],\n",
       " [np.int64(4), np.float64(4.190476190476191)],\n",
       " [np.int64(5), np.float64(3.1464646464646466)]]"
      ]
     },
     "execution_count": 14,
     "metadata": {},
     "output_type": "execute_result"
    }
   ],
   "execution_count": 14
  },
  {
   "metadata": {
    "ExecuteTime": {
     "end_time": "2025-02-14T06:37:40.334917Z",
     "start_time": "2025-02-14T06:37:40.323323Z"
    }
   },
   "cell_type": "code",
   "source": [
    "mean_array=np.array(mean_values,dtype=np.float32)\n",
    "print(mean_array[:5])\n",
    "print(mean_array.shape)"
   ],
   "id": "ab545db8be5dd809",
   "outputs": [
    {
     "name": "stdout",
     "output_type": "stream",
     "text": [
      "[[1.        4.188679 ]\n",
      " [2.        3.7131784]\n",
      " [3.        3.9019608]\n",
      " [4.        4.1904764]\n",
      " [5.        3.1464646]]\n",
      "(6040, 2)\n"
     ]
    }
   ],
   "execution_count": 15
  },
  {
   "metadata": {
    "ExecuteTime": {
     "end_time": "2025-02-14T06:38:32.787565Z",
     "start_time": "2025-02-14T06:38:32.762363Z"
    }
   },
   "cell_type": "code",
   "source": [
    "np.savetxt(r\"D:\\0-python-work-pycacharmPro-ver\\ch7-numpy-pandas-matplotlib\\result.csv\",mean_array,\n",
    "fmt=\"%.1f\",delimiter=\",\")\n"
   ],
   "id": "7b606bbdfcc622e7",
   "outputs": [],
   "execution_count": 16
  }
 ],
 "metadata": {
  "kernelspec": {
   "display_name": "Python 3",
   "language": "python",
   "name": "python3"
  },
  "language_info": {
   "codemirror_mode": {
    "name": "ipython",
    "version": 2
   },
   "file_extension": ".py",
   "mimetype": "text/x-python",
   "name": "python",
   "nbconvert_exporter": "python",
   "pygments_lexer": "ipython2",
   "version": "2.7.6"
  }
 },
 "nbformat": 4,
 "nbformat_minor": 5
}
