{
 "cells": [
  {
   "cell_type": "code",
   "id": "initial_id",
   "metadata": {
    "collapsed": true,
    "ExecuteTime": {
     "end_time": "2025-02-14T06:26:18.743846Z",
     "start_time": "2025-02-14T06:26:14.522165Z"
    }
   },
   "source": [
    "import numpy as np\n",
    "\n",
    "file_path = r\"D:\\0-python-work-pycacharmPro-ver\\ch7-numpy-pandas-matplotlib\\ratings.dat\"\n",
    "\n",
    "# 데이터 로드 (delimiter=\"::\"는 문제가 되므로 np.genfromtxt() 사용)\n",
    "data = np.genfromtxt(file_path, delimiter=\"::\", dtype=np.int64, encoding=\"utf-8\", autostrip=True)\n"
   ],
   "outputs": [],
   "execution_count": 8
  },
  {
   "metadata": {
    "ExecuteTime": {
     "end_time": "2025-02-14T06:26:21.533616Z",
     "start_time": "2025-02-14T06:26:21.526236Z"
    }
   },
   "cell_type": "code",
   "source": "data[:5,:]",
   "id": "f8e53748c7d91f9c",
   "outputs": [
    {
     "data": {
      "text/plain": [
       "array([[        1,      1193,         5, 978300760],\n",
       "       [        1,       661,         3, 978302109],\n",
       "       [        1,       914,         3, 978301968],\n",
       "       [        1,      3408,         4, 978300275],\n",
       "       [        1,      2355,         5, 978824291]])"
      ]
     },
     "execution_count": 9,
     "metadata": {},
     "output_type": "execute_result"
    }
   ],
   "execution_count": 9
  }
 ],
 "metadata": {
  "kernelspec": {
   "display_name": "Python 3",
   "language": "python",
   "name": "python3"
  },
  "language_info": {
   "codemirror_mode": {
    "name": "ipython",
    "version": 2
   },
   "file_extension": ".py",
   "mimetype": "text/x-python",
   "name": "python",
   "nbconvert_exporter": "python",
   "pygments_lexer": "ipython2",
   "version": "2.7.6"
  }
 },
 "nbformat": 4,
 "nbformat_minor": 5
}
