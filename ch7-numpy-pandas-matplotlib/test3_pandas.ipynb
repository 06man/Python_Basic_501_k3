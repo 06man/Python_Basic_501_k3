{
 "cells": [
  {
   "cell_type": "code",
   "id": "initial_id",
   "metadata": {
    "collapsed": true,
    "ExecuteTime": {
     "end_time": "2025-02-17T00:32:07.403553Z",
     "start_time": "2025-02-17T00:32:07.397176Z"
    }
   },
   "source": [
    "import numpy as np\n",
    "import pandas as pd\n",
    "\n",
    "# Series 정의하기\n",
    "x = pd.Series([4, 3, 5, 8])\n",
    "print(x)\n",
    "print(type(x))\n",
    "# Series의값만확인하기\n",
    "print(x.values)\n",
    "# Series의인덱스만확인하기\n",
    "print(x.index)\n",
    "# Series의자료형확인하기\n",
    "print(x.dtype)\n"
   ],
   "outputs": [
    {
     "name": "stdout",
     "output_type": "stream",
     "text": [
      "0    4\n",
      "1    3\n",
      "2    5\n",
      "3    8\n",
      "dtype: int64\n",
      "<class 'pandas.core.series.Series'>\n",
      "[4 3 5 8]\n",
      "RangeIndex(start=0, stop=4, step=1)\n",
      "int64\n"
     ]
    }
   ],
   "execution_count": 2
  },
  {
   "metadata": {
    "ExecuteTime": {
     "end_time": "2025-02-17T00:34:53.984997Z",
     "start_time": "2025-02-17T00:34:53.963423Z"
    }
   },
   "cell_type": "code",
   "source": [
    "data = [100,200,300,400]\n",
    "index_labels = ['a', 'b', 'c', 'd']\n",
    "series = pd.Series(data,index=index_labels)\n",
    "print(series)"
   ],
   "id": "fb4da96f8de0a8ec",
   "outputs": [
    {
     "name": "stdout",
     "output_type": "stream",
     "text": [
      "a    100\n",
      "b    200\n",
      "c    300\n",
      "d    400\n",
      "dtype: int64\n"
     ]
    }
   ],
   "execution_count": 4
  },
  {
   "metadata": {
    "ExecuteTime": {
     "end_time": "2025-02-17T00:37:38.373608Z",
     "start_time": "2025-02-17T00:37:38.367248Z"
    }
   },
   "cell_type": "code",
   "source": [
    "sdata = {'Kim': 35000, 'Beomwoo': 67000, 'Joan': 12000, 'Choi': 4000}\n",
    "obj3 = pd.Series(sdata)\n",
    "print(obj3)\n",
    "obj3.name = 'Salary'\n",
    "obj3.index.name = \"Names\"\n",
    "print(obj3)\n",
    "# index 변경\n",
    "obj3.index = ['A', 'B', 'C', 'D']\n",
    "print(obj3)\n"
   ],
   "id": "7edaf6d9041409b",
   "outputs": [
    {
     "name": "stdout",
     "output_type": "stream",
     "text": [
      "Kim        35000\n",
      "Beomwoo    67000\n",
      "Joan       12000\n",
      "Choi        4000\n",
      "dtype: int64\n",
      "Names\n",
      "Kim        35000\n",
      "Beomwoo    67000\n",
      "Joan       12000\n",
      "Choi        4000\n",
      "Name: Salary, dtype: int64\n",
      "A    35000\n",
      "B    67000\n",
      "C    12000\n",
      "D     4000\n",
      "Name: Salary, dtype: int64\n"
     ]
    }
   ],
   "execution_count": 7
  },
  {
   "metadata": {
    "ExecuteTime": {
     "end_time": "2025-02-17T00:38:43.073939Z",
     "start_time": "2025-02-17T00:38:43.057244Z"
    }
   },
   "cell_type": "code",
   "source": [
    " # index 사용\n",
    "x=pd.Series([7,3,5,8], index=['서울','대구','부산','광주'])\n",
    "print(x)\n",
    "print(x['서울'])\n",
    "print(x[['서울','부산']])"
   ],
   "id": "6ffa048dfa1672bf",
   "outputs": [
    {
     "name": "stdout",
     "output_type": "stream",
     "text": [
      "서울    7\n",
      "대구    3\n",
      "부산    5\n",
      "광주    8\n",
      "dtype: int64\n",
      "7\n",
      "서울    7\n",
      "부산    5\n",
      "dtype: int64\n"
     ]
    }
   ],
   "execution_count": 8
  },
  {
   "metadata": {
    "ExecuteTime": {
     "end_time": "2025-02-17T00:40:19.258035Z",
     "start_time": "2025-02-17T00:40:19.246364Z"
    }
   },
   "cell_type": "code",
   "source": [
    "#Series 연산\n",
    "x=pd.Series([7,3,5,8], index=['서울','대구','부산','광주'])\n",
    "y=pd.Series([2,4,5,1], index=['대구','부산','서울','대전'])\n",
    "print(x+y)"
   ],
   "id": "11648862b4bf5913",
   "outputs": [
    {
     "name": "stdout",
     "output_type": "stream",
     "text": [
      "광주     NaN\n",
      "대구     5.0\n",
      "대전     NaN\n",
      "부산     9.0\n",
      "서울    12.0\n",
      "dtype: float64\n"
     ]
    }
   ],
   "execution_count": 9
  },
  {
   "metadata": {
    "ExecuteTime": {
     "end_time": "2025-02-17T00:42:42.488437Z",
     "start_time": "2025-02-17T00:42:42.461656Z"
    }
   },
   "cell_type": "code",
   "source": [
    "data = {'names': ['민준', '현우', '서연', '동현', '지현'],\n",
    "'years': [2013, 2014, 2015, 2016, 2015],\n",
    "'points': [1.5, 1.7, 3.6, 2.4, 2.9]}\n",
    "df=pd.DataFrame(data)\n",
    "df"
   ],
   "id": "d76ccefd383570e1",
   "outputs": [
    {
     "data": {
      "text/plain": [
       "  names  years  points\n",
       "0    민준   2013     1.5\n",
       "1    현우   2014     1.7\n",
       "2    서연   2015     3.6\n",
       "3    동현   2016     2.4\n",
       "4    지현   2015     2.9"
      ],
      "text/html": [
       "<div>\n",
       "<style scoped>\n",
       "    .dataframe tbody tr th:only-of-type {\n",
       "        vertical-align: middle;\n",
       "    }\n",
       "\n",
       "    .dataframe tbody tr th {\n",
       "        vertical-align: top;\n",
       "    }\n",
       "\n",
       "    .dataframe thead th {\n",
       "        text-align: right;\n",
       "    }\n",
       "</style>\n",
       "<table border=\"1\" class=\"dataframe\">\n",
       "  <thead>\n",
       "    <tr style=\"text-align: right;\">\n",
       "      <th></th>\n",
       "      <th>names</th>\n",
       "      <th>years</th>\n",
       "      <th>points</th>\n",
       "    </tr>\n",
       "  </thead>\n",
       "  <tbody>\n",
       "    <tr>\n",
       "      <th>0</th>\n",
       "      <td>민준</td>\n",
       "      <td>2013</td>\n",
       "      <td>1.5</td>\n",
       "    </tr>\n",
       "    <tr>\n",
       "      <th>1</th>\n",
       "      <td>현우</td>\n",
       "      <td>2014</td>\n",
       "      <td>1.7</td>\n",
       "    </tr>\n",
       "    <tr>\n",
       "      <th>2</th>\n",
       "      <td>서연</td>\n",
       "      <td>2015</td>\n",
       "      <td>3.6</td>\n",
       "    </tr>\n",
       "    <tr>\n",
       "      <th>3</th>\n",
       "      <td>동현</td>\n",
       "      <td>2016</td>\n",
       "      <td>2.4</td>\n",
       "    </tr>\n",
       "    <tr>\n",
       "      <th>4</th>\n",
       "      <td>지현</td>\n",
       "      <td>2015</td>\n",
       "      <td>2.9</td>\n",
       "    </tr>\n",
       "  </tbody>\n",
       "</table>\n",
       "</div>"
      ]
     },
     "execution_count": 10,
     "metadata": {},
     "output_type": "execute_result"
    }
   ],
   "execution_count": 10
  },
  {
   "metadata": {
    "ExecuteTime": {
     "end_time": "2025-02-17T00:46:01.378426Z",
     "start_time": "2025-02-17T00:46:01.365428Z"
    }
   },
   "cell_type": "code",
   "source": [
    "data = {\n",
    "    '이름' : ['상용1','상용2','상용3'],\n",
    "    '나이' : [24,25,26],\n",
    "    '좋아하는 음식' : ['국밥','칼국수','국수']\n",
    "}\n",
    "df = pd.DataFrame(data)\n",
    "df\n",
    "df.index = ['ID1','ID2','ID3']\n",
    "df"
   ],
   "id": "45ee93ab3a15fd98",
   "outputs": [
    {
     "data": {
      "text/plain": [
       "      이름  나이 좋아하는 음식\n",
       "ID1  상용1  24      국밥\n",
       "ID2  상용2  25     칼국수\n",
       "ID3  상용3  26      국수"
      ],
      "text/html": [
       "<div>\n",
       "<style scoped>\n",
       "    .dataframe tbody tr th:only-of-type {\n",
       "        vertical-align: middle;\n",
       "    }\n",
       "\n",
       "    .dataframe tbody tr th {\n",
       "        vertical-align: top;\n",
       "    }\n",
       "\n",
       "    .dataframe thead th {\n",
       "        text-align: right;\n",
       "    }\n",
       "</style>\n",
       "<table border=\"1\" class=\"dataframe\">\n",
       "  <thead>\n",
       "    <tr style=\"text-align: right;\">\n",
       "      <th></th>\n",
       "      <th>이름</th>\n",
       "      <th>나이</th>\n",
       "      <th>좋아하는 음식</th>\n",
       "    </tr>\n",
       "  </thead>\n",
       "  <tbody>\n",
       "    <tr>\n",
       "      <th>ID1</th>\n",
       "      <td>상용1</td>\n",
       "      <td>24</td>\n",
       "      <td>국밥</td>\n",
       "    </tr>\n",
       "    <tr>\n",
       "      <th>ID2</th>\n",
       "      <td>상용2</td>\n",
       "      <td>25</td>\n",
       "      <td>칼국수</td>\n",
       "    </tr>\n",
       "    <tr>\n",
       "      <th>ID3</th>\n",
       "      <td>상용3</td>\n",
       "      <td>26</td>\n",
       "      <td>국수</td>\n",
       "    </tr>\n",
       "  </tbody>\n",
       "</table>\n",
       "</div>"
      ]
     },
     "execution_count": 12,
     "metadata": {},
     "output_type": "execute_result"
    }
   ],
   "execution_count": 12
  },
  {
   "metadata": {
    "ExecuteTime": {
     "end_time": "2025-02-17T01:04:25.428290Z",
     "start_time": "2025-02-17T01:04:25.405892Z"
    }
   },
   "cell_type": "code",
   "source": [
    "data=[['민준','현우','서연','동현','지현'],\n",
    "      [2013,2014,2015,2016,2015],\n",
    "      [1.5,1.7,3.6,2.4,2.9]]\n",
    "data1=zip(data[0],data[1],data[2])\n",
    "print(data1)\n",
    "df=pd.DataFrame(data1,columns=['names','years','points'])\n",
    "df\n",
    "df.describe()"
   ],
   "id": "5ca39a3af387712f",
   "outputs": [
    {
     "name": "stdout",
     "output_type": "stream",
     "text": [
      "<zip object at 0x00000180D4F15C00>\n"
     ]
    },
    {
     "data": {
      "text/plain": [
       "             years    points\n",
       "count     5.000000  5.000000\n",
       "mean   2014.600000  2.420000\n",
       "std       1.140175  0.864292\n",
       "min    2013.000000  1.500000\n",
       "25%    2014.000000  1.700000\n",
       "50%    2015.000000  2.400000\n",
       "75%    2015.000000  2.900000\n",
       "max    2016.000000  3.600000"
      ],
      "text/html": [
       "<div>\n",
       "<style scoped>\n",
       "    .dataframe tbody tr th:only-of-type {\n",
       "        vertical-align: middle;\n",
       "    }\n",
       "\n",
       "    .dataframe tbody tr th {\n",
       "        vertical-align: top;\n",
       "    }\n",
       "\n",
       "    .dataframe thead th {\n",
       "        text-align: right;\n",
       "    }\n",
       "</style>\n",
       "<table border=\"1\" class=\"dataframe\">\n",
       "  <thead>\n",
       "    <tr style=\"text-align: right;\">\n",
       "      <th></th>\n",
       "      <th>years</th>\n",
       "      <th>points</th>\n",
       "    </tr>\n",
       "  </thead>\n",
       "  <tbody>\n",
       "    <tr>\n",
       "      <th>count</th>\n",
       "      <td>5.000000</td>\n",
       "      <td>5.000000</td>\n",
       "    </tr>\n",
       "    <tr>\n",
       "      <th>mean</th>\n",
       "      <td>2014.600000</td>\n",
       "      <td>2.420000</td>\n",
       "    </tr>\n",
       "    <tr>\n",
       "      <th>std</th>\n",
       "      <td>1.140175</td>\n",
       "      <td>0.864292</td>\n",
       "    </tr>\n",
       "    <tr>\n",
       "      <th>min</th>\n",
       "      <td>2013.000000</td>\n",
       "      <td>1.500000</td>\n",
       "    </tr>\n",
       "    <tr>\n",
       "      <th>25%</th>\n",
       "      <td>2014.000000</td>\n",
       "      <td>1.700000</td>\n",
       "    </tr>\n",
       "    <tr>\n",
       "      <th>50%</th>\n",
       "      <td>2015.000000</td>\n",
       "      <td>2.400000</td>\n",
       "    </tr>\n",
       "    <tr>\n",
       "      <th>75%</th>\n",
       "      <td>2015.000000</td>\n",
       "      <td>2.900000</td>\n",
       "    </tr>\n",
       "    <tr>\n",
       "      <th>max</th>\n",
       "      <td>2016.000000</td>\n",
       "      <td>3.600000</td>\n",
       "    </tr>\n",
       "  </tbody>\n",
       "</table>\n",
       "</div>"
      ]
     },
     "execution_count": 14,
     "metadata": {},
     "output_type": "execute_result"
    }
   ],
   "execution_count": 14
  },
  {
   "metadata": {
    "ExecuteTime": {
     "end_time": "2025-02-17T01:24:30.464054Z",
     "start_time": "2025-02-17T01:24:30.453557Z"
    }
   },
   "cell_type": "code",
   "source": [
    "df = pd.DataFrame({\n",
    "    '가격':[1000,1500,2000,2500,3000],\n",
    "    '판매량' :[10,15,20,25,30],\n",
    "})\n",
    "df\n",
    "df['판매량'] = df['판매량'] * 2\n",
    "df\n",
    "df['총액'] = df['가격'] * df['판매량']\n",
    "df\n",
    "del df['총액']\n",
    "df\n",
    "# 행으로 접근, loc[]:라벨이름\n",
    "# 행으로 접근, iloc[]:인덱스 번호로 접근\n",
    "print(\"행으로 추출\")\n",
    "print(df[0:3])\n",
    "print(\"행으로 추출2\")\n",
    "print(df.loc[1])\n",
    "print(\"행, 열로 추출3\")\n",
    "print(df.iloc[0:3,1])\n",
    "print(\"필터 추출4\")\n",
    "print(df['가격']>2000)\n",
    "print(\"필터 추출5\")\n",
    "print(df.loc[df['가격']>2000,:])"
   ],
   "id": "a720f97f2e895e44",
   "outputs": [
    {
     "name": "stdout",
     "output_type": "stream",
     "text": [
      "행으로 추출\n",
      "     가격  판매량\n",
      "0  1000   20\n",
      "1  1500   30\n",
      "2  2000   40\n",
      "행으로 추출2\n",
      "가격     1500\n",
      "판매량      30\n",
      "Name: 1, dtype: int64\n",
      "행, 열로 추출3\n",
      "0    20\n",
      "1    30\n",
      "2    40\n",
      "Name: 판매량, dtype: int64\n",
      "필터 추출4\n",
      "0    False\n",
      "1    False\n",
      "2    False\n",
      "3     True\n",
      "4     True\n",
      "Name: 가격, dtype: bool\n",
      "필터 추출5\n",
      "     가격  판매량\n",
      "3  2500   50\n",
      "4  3000   60\n"
     ]
    }
   ],
   "execution_count": 29
  }
 ],
 "metadata": {
  "kernelspec": {
   "display_name": "Python 3",
   "language": "python",
   "name": "python3"
  },
  "language_info": {
   "codemirror_mode": {
    "name": "ipython",
    "version": 2
   },
   "file_extension": ".py",
   "mimetype": "text/x-python",
   "name": "python",
   "nbconvert_exporter": "python",
   "pygments_lexer": "ipython2",
   "version": "2.7.6"
  }
 },
 "nbformat": 4,
 "nbformat_minor": 5
}
