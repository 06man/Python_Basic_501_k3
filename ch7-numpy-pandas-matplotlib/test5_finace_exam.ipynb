{
 "cells": [
  {
   "cell_type": "code",
   "execution_count": null,
   "id": "initial_id",
   "metadata": {
    "collapsed": true
   },
   "outputs": [],
   "source": [
    "# 실전 예제로 주식 데이터(삼성전자, 카카오, 네이버) 를 활용하여\n",
    "# 주가 변동을 시각화하는 예제를 만들어보겠습니다.\n",
    "#\n",
    "# 이 예제에서는 Matplotlib과 Pandas를 활용하여 다음을 분석합니다:\n",
    "#\n",
    "# 주가 변동 라인 그래프\n",
    "# 삼성전자, 카카오, 네이버의 주가 변동을 하나의 그래프로 시각화합니다.\n",
    "#\n",
    "# 이동 평균선 추가\n",
    "# 단기(5일) 및 장기(20일) 이동 평균선을 추가하여 주가 추세를 분석합니다.\n",
    "#\n",
    "# 히트맵을 통한 상관관계 분석\n",
    "# 삼성전자, 카카오, 네이버의 주가 상관관계를 히트맵으로 표현합니다.\n",
    "#\n",
    "#\n",
    "# 1. 주식 데이터 수집 및 처리\n",
    "# 먼저, 삼성전자(005930), 카카오(035720), 네이버(035420)의 주가 데이터를 가져오겠습니다.\n",
    "# 실시간 주식 데이터를 사용하기 위해, web을 이용하여 최신 데이터를 검색합니다.\n",
    "#\n",
    "# 실전 예제로 삼성전자, 네이버, 카카오의 주가 데이터를 활용하여 주가 변동을 시각화하는 방법을 안내하겠습니다. 이를 통해 주가 변동 추이와 종목 간 상관관계를 분석할 수 있습니다.\n",
    "#\n",
    "#\n",
    "#\n",
    "# 1. 주가 데이터 수집\n",
    "# 주가 데이터를 수집하기 위해 yahoo_fin 라이브러리를 사용합니다. 이 라이브러리는 야후 파이낸스에서 주가 데이터를 가져올 수 있도록 도와줍니다.\n",
    "#\n",
    "# 필요한 라이브러리 설치:"
   ]
  },
  {
   "metadata": {},
   "cell_type": "code",
   "outputs": [],
   "execution_count": null,
   "source": "# pip install yahoo_fin pandas matplotlib seaborn",
   "id": "e478fefbf83215ef"
  },
  {
   "metadata": {},
   "cell_type": "code",
   "outputs": [],
   "execution_count": null,
   "source": [
    "import pandas as pd\n",
    "import matplotlib.pyplot as plt\n",
    "import seaborn as sns\n",
    "from yahoo_fin import stock_info as si\n",
    "\n",
    "# 종목 코드 설정\n",
    "tickers = {\n",
    "    '삼성전자': '005930.KS',\n",
    "    '네이버': '035420.KS',\n",
    "    '카카오': '035720.KS'\n",
    "}\n",
    "\n",
    "# 데이터 수집\n",
    "data = {}\n",
    "for company, ticker in tickers.items():\n",
    "    data[company] = si.get_data(ticker, start_date='2022-01-01', end_date='2025-01-01')\n"
   ],
   "id": "808959f728a83c97"
  },
  {
   "metadata": {},
   "cell_type": "code",
   "outputs": [],
   "execution_count": null,
   "source": [
    "# 2. 데이터 전처리\n",
    "# 수집한 데이터에서 종가(close) 정보를 추출하고, 이를 하나의 데이터프레임으로 결합합니다."
   ],
   "id": "466add7af90c4280"
  },
  {
   "metadata": {},
   "cell_type": "code",
   "outputs": [],
   "execution_count": null,
   "source": [
    "# 종가 데이터 추출 및 결합\n",
    "close_prices = pd.DataFrame()\n",
    "\n",
    "for company, df in data.items():\n",
    "    close_prices[company] = df['close']\n",
    "\n",
    "# 날짜 인덱스 설정\n",
    "close_prices.index = data['삼성전자'].index"
   ],
   "id": "2c2ad6f1b46c401e"
  },
  {
   "metadata": {},
   "cell_type": "code",
   "outputs": [],
   "execution_count": null,
   "source": [
    "# 3. 주가 변동 시각화\n",
    "# 각 기업의 주가 변동을 라인 그래프로 시각화합니다."
   ],
   "id": "20c899773370f994"
  },
  {
   "metadata": {},
   "cell_type": "code",
   "outputs": [],
   "execution_count": null,
   "source": [
    "import matplotlib.pyplot as plt\n",
    "import matplotlib.font_manager as fm\n",
    "import seaborn as sns\n",
    "\n",
    "# 한글 폰트 경로 설정 (Windows)\n",
    "font_path = \"C:/Windows/Fonts/malgun.ttf\"  # '맑은 고딕' 폰트 경로\n",
    "\n",
    "font_prop = fm.FontProperties(fname=font_path)\n",
    "\n",
    "# Matplotlib 기본 폰트 설정\n",
    "plt.rcParams['font.family'] = font_prop.get_name()\n",
    "\n",
    "# 음수 기호 깨짐 방지\n",
    "plt.rcParams['axes.unicode_minus'] = False\n",
    "\n",
    "\n",
    "plt.figure(figsize=(14, 7))\n",
    "for company in close_prices.columns:\n",
    "    plt.plot(close_prices.index, close_prices[company], label=company)\n",
    "\n",
    "plt.title('삼성전자, 네이버, 카카오 주가 변동 (2022-2025)', fontproperties=font_prop)\n",
    "plt.xlabel('날짜', fontproperties=font_prop)\n",
    "plt.ylabel('주가 (원)', fontproperties=font_prop)\n",
    "plt.legend(prop=font_prop)\n",
    "plt.grid(True)\n",
    "plt.show()"
   ],
   "id": "ed8d7a51214187b3"
  },
  {
   "metadata": {},
   "cell_type": "code",
   "outputs": [],
   "execution_count": null,
   "source": [
    "\n",
    "# 4. 이동 평균선 추가\n",
    "# 주가의 단기 및 장기 추세를 파악하기 위해 20일 및 60일 이동 평균선을 계산하고 시각화합니다.\n",
    "\n"
   ],
   "id": "dbc4c1f2fd8e9adc"
  },
  {
   "metadata": {},
   "cell_type": "code",
   "outputs": [],
   "execution_count": null,
   "source": [
    "# 이동 평균선 계산\n",
    "ma_days = [20, 60]\n",
    "for ma in ma_days:\n",
    "    for company in close_prices.columns:\n",
    "        column_name = f'{company} {ma}일 이동평균'\n",
    "        close_prices[column_name] = close_prices[company].rolling(window=ma).mean()\n",
    "\n",
    "# 시각화\n",
    "plt.figure(figsize=(14, 7))\n",
    "for company in close_prices.columns[:3]:\n",
    "    plt.plot(close_prices.index, close_prices[company], label=company)\n",
    "    for ma in ma_days:\n",
    "        plt.plot(close_prices.index, close_prices[f'{company} {ma}일 이동평균'],\n",
    "                 label=f'{company} {ma}일 이동평균')\n",
    "\n",
    "plt.title('주가 변동 및 이동평균선', fontproperties=font_prop)\n",
    "plt.xlabel('날짜', fontproperties=font_prop)\n",
    "plt.ylabel('주가 (원)', fontproperties=font_prop)\n",
    "plt.legend(prop=font_prop)\n",
    "plt.grid(True)\n",
    "plt.show()"
   ],
   "id": "ac1bf179a57dff00"
  },
  {
   "metadata": {},
   "cell_type": "code",
   "outputs": [],
   "execution_count": null,
   "source": [
    "# 📌 종가 데이터의 상관계수 계산\n",
    "corr = close_prices.corr()\n",
    "\n",
    "# 📌 히트맵 시각화 (한글 폰트 적용)\n",
    "plt.figure(figsize=(8, 6))\n",
    "sns.heatmap(corr, annot=True, cmap='coolwarm', vmin=-1, vmax=1,\n",
    "            annot_kws={\"fontsize\": 12, \"fontproperties\": font_prop}, fmt=\".2f\")\n",
    "\n",
    "# 📌 그래프 제목 및 축 레이블 한글 적용\n",
    "plt.title(\"삼성전자, 네이버, 카카오 주가 상관관계\", fontproperties=font_prop)\n",
    "plt.xlabel(\"종목명\", fontproperties=font_prop)\n",
    "plt.ylabel(\"종목명\", fontproperties=font_prop)\n",
    "\n",
    "plt.show()"
   ],
   "id": "a4edc1c5b30c2484"
  },
  {
   "metadata": {},
   "cell_type": "code",
   "outputs": [],
   "execution_count": null,
   "source": "",
   "id": "999086e5751a7b54"
  }
 ],
 "metadata": {
  "kernelspec": {
   "display_name": "Python 3",
   "language": "python",
   "name": "python3"
  },
  "language_info": {
   "codemirror_mode": {
    "name": "ipython",
    "version": 2
   },
   "file_extension": ".py",
   "mimetype": "text/x-python",
   "name": "python",
   "nbconvert_exporter": "python",
   "pygments_lexer": "ipython2",
   "version": "2.7.6"
  }
 },
 "nbformat": 4,
 "nbformat_minor": 5
}
