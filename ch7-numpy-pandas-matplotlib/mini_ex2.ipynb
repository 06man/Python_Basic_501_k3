{
 "cells": [
  {
   "cell_type": "code",
   "execution_count": null,
   "id": "initial_id",
   "metadata": {
    "collapsed": true
   },
   "outputs": [],
   "source": [
    "# 🔹 기본 실습 1: Pandas Series 및 DataFrame 생성\n",
    "# 문제:\n",
    "#\n",
    "# 1)Pandas Series를 생성하고 인덱스를 설정하세요.\n",
    "# Pandas Series:\n",
    "# A 10\n",
    "# B 20\n",
    "# C 30\n",
    "# D 40\n",
    "# E 50\n",
    "# dtype: int64\n",
    "#\n",
    "# 2)DataFrame을 생성하고 행과 열의 인덱스를 설정하세요.\n",
    "# Pandas DataFrame:\n",
    "# 이름 나이 성별\n",
    "# ID1 철수 25 남\n",
    "# ID2 영희 24 여\n",
    "# ID3 민수 26 남\n",
    "# ID4 지연 23 여"
   ]
  },
  {
   "metadata": {
    "ExecuteTime": {
     "end_time": "2025-02-17T04:59:39.454174Z",
     "start_time": "2025-02-17T04:59:39.438642Z"
    }
   },
   "cell_type": "code",
   "source": [
    "import numpy as np\n",
    "import pandas as pd\n",
    "data = [10,20,30,40,50]\n",
    "index_labels = ['A', 'B', 'C', 'D', 'E']\n",
    "series = pd.Series(data, index=index_labels)\n",
    "print(series)\n",
    "\n",
    "data2 = {\n",
    "    '이름': ['철수','영희','민수','지연'],\n",
    "    '나이' : [25,24,26,23],\n",
    "    '성별' : ['남','여','남','여']\n",
    "}\n",
    "index_labels2 = ['ID1', 'ID2', 'ID3', 'ID4']\n",
    "series2 = pd.DataFrame(data2, index=index_labels2)\n",
    "print(series2)"
   ],
   "id": "adbb2b5d571c43ec",
   "outputs": [
    {
     "name": "stdout",
     "output_type": "stream",
     "text": [
      "A    10\n",
      "B    20\n",
      "C    30\n",
      "D    40\n",
      "E    50\n",
      "dtype: int64\n",
      "     이름  나이 성별\n",
      "ID1  철수  25  남\n",
      "ID2  영희  24  여\n",
      "ID3  민수  26  남\n",
      "ID4  지연  23  여\n"
     ]
    }
   ],
   "execution_count": 5
  },
  {
   "metadata": {},
   "cell_type": "code",
   "outputs": [],
   "execution_count": null,
   "source": [
    "# 🔹 기본 실습 2: DataFrame 기본 조작\n",
    "# 문제:\n",
    "# 아래의 주어진 표를 DataFrame으로 생성 후,\n",
    "# 1)describe() 함수를 사용하여 데이터 요약 정보를 확인하세요.\n",
    "# 2)특정 열을 선택하고 값을 수정하세요.\n",
    "# 3)새로운 열을 추가하고 값을 설정하세요.\n",
    "# 예시1)\n",
    "# 제품명 가격 재고\n",
    "# 0 노트북 1500000 10\n",
    "# 1 키보드 50000 50\n",
    "# 2 마우스 30000 70\n",
    "# 3 모니터 200000 20\n",
    "#\n",
    "# 예시2)\n",
    "# 수정 후 DataFrame:\n",
    "# 제품명 가격 재고 할인율 할인가격\n",
    "# 0 노트북 1500000 10 0.10 1350000.0\n",
    "# 1 키보드 50000 50 0.05 47500.0\n",
    "# 2 마우스 35000 70 0.02 34300.0\n",
    "# 3 모니터 200000 20 0.08 184000.0"
   ],
   "id": "5e71e7a0e403c15"
  },
  {
   "metadata": {
    "ExecuteTime": {
     "end_time": "2025-02-17T05:06:48.384986Z",
     "start_time": "2025-02-17T05:06:48.364226Z"
    }
   },
   "cell_type": "code",
   "source": [
    "data3 = {\n",
    "    '제품명' : ['노트북','키보드','마우스','모니터'],\n",
    "    '가격' : [1500000, 50000, 35000, 200000],\n",
    "    '재고' :[10,50,70,20]\n",
    "}\n",
    "df = pd.DataFrame(data3, index=index_labels2)\n",
    "print(df)\n",
    "df.describe()\n",
    "#\n",
    "df.loc[df['제품명'] == '마우스', '가격'] = 50000\n",
    "print(df)\n",
    "\n",
    "df['할인율'] = [0.1, 0.05, 0.02, 0.08]\n",
    "print(df)\n",
    "df['할인가격'] = df['가격'] * (1-df['할인율'])\n",
    "print(df)\n"
   ],
   "id": "f78f01e882cc197a",
   "outputs": [
    {
     "name": "stdout",
     "output_type": "stream",
     "text": [
      "     제품명       가격  재고\n",
      "ID1  노트북  1500000  10\n",
      "ID2  키보드    50000  50\n",
      "ID3  마우스    35000  70\n",
      "ID4  모니터   200000  20\n",
      "     제품명       가격  재고\n",
      "ID1  노트북  1500000  10\n",
      "ID2  키보드    50000  50\n",
      "ID3  마우스    50000  70\n",
      "ID4  모니터   200000  20\n",
      "     제품명       가격  재고   할인율\n",
      "ID1  노트북  1500000  10  0.10\n",
      "ID2  키보드    50000  50  0.05\n",
      "ID3  마우스    50000  70  0.02\n",
      "ID4  모니터   200000  20  0.08\n",
      "     제품명       가격  재고   할인율       할인가격\n",
      "ID1  노트북  1500000  10  0.10  1350000.0\n",
      "ID2  키보드    50000  50  0.05    47500.0\n",
      "ID3  마우스    50000  70  0.02    49000.0\n",
      "ID4  모니터   200000  20  0.08   184000.0\n"
     ]
    }
   ],
   "execution_count": 11
  },
  {
   "metadata": {},
   "cell_type": "code",
   "outputs": [],
   "execution_count": null,
   "source": [
    "# 🔹 기본 실습 3: DataFrame 행과 열 조작\n",
    "# 문제:\n",
    "# 아래의 주어진 표를 DataFrame으로 생성 후,\n",
    "# 1)특정 열을 삭제하세요.\n",
    "# 2)특정 행을 선택하는 .loc[] 및 .iloc[]을 사용하세요.\n",
    "# 3)Boolean Indexing을 사용하여\n",
    "# 특정 조건을 만족하는 데이터를 출력하세요.\n",
    "#\n",
    "# 예시)\n",
    "# 이름 성적 출석\n",
    "# 0 철수 85 True\n",
    "# 1 영희 90 True\n",
    "# 2 민수 78 False\n",
    "# 3 지연 92 True"
   ],
   "id": "de217a6a85df4c45"
  },
  {
   "metadata": {
    "ExecuteTime": {
     "end_time": "2025-02-17T05:13:48.500892Z",
     "start_time": "2025-02-17T05:13:48.469434Z"
    }
   },
   "cell_type": "code",
   "source": [
    "index= ['ID1', 'ID2', 'ID3', 'ID4']\n",
    "df = pd.DataFrame({\n",
    "    '이름' : ['철수','영희','민수','지연'],\n",
    "    '성적' : [85,90,78,92],\n",
    "    '출석' : [True,True,False,True]\n",
    "},index=index)\n",
    "print(df)\n",
    "df2 = df.drop(columns=['출석'])\n",
    "print(df2)\n",
    "\n",
    "print(df.loc['ID1'])\n",
    "print(df.iloc[0])\n",
    "\n",
    "df3 = df[df['성적'] >= 80]\n",
    "print(df3)\n",
    "print(df['성적'] >= 80)\n",
    "\n"
   ],
   "id": "a415e70738ca9091",
   "outputs": [
    {
     "name": "stdout",
     "output_type": "stream",
     "text": [
      "     이름  성적     출석\n",
      "ID1  철수  85   True\n",
      "ID2  영희  90   True\n",
      "ID3  민수  78  False\n",
      "ID4  지연  92   True\n",
      "     이름  성적\n",
      "ID1  철수  85\n",
      "ID2  영희  90\n",
      "ID3  민수  78\n",
      "ID4  지연  92\n",
      "이름      철수\n",
      "성적      85\n",
      "출석    True\n",
      "Name: ID1, dtype: object\n",
      "이름      철수\n",
      "성적      85\n",
      "출석    True\n",
      "Name: ID1, dtype: object\n",
      "     이름  성적    출석\n",
      "ID1  철수  85  True\n",
      "ID2  영희  90  True\n",
      "ID4  지연  92  True\n",
      "ID1     True\n",
      "ID2     True\n",
      "ID3    False\n",
      "ID4     True\n",
      "Name: 성적, dtype: bool\n"
     ]
    }
   ],
   "execution_count": 20
  },
  {
   "metadata": {},
   "cell_type": "code",
   "outputs": [],
   "execution_count": null,
   "source": [
    "# 🔹 응용 실습 1: 항공 운항 데이터 분석\n",
    "# 문제:\n",
    "# 주어진 표를 이용하여, 항공 운항 데이터 생성\n",
    "# 1)항공 운항 데이터에서 지연된 항공편만 필터링하고,\n",
    "# 2)도착 지연 시간의 평균을 계산하세요.\n",
    "#\n",
    "# 예시)\n",
    "# 항공사 출발지 도착지 출발 지연(분) 도착 지연(분)\n",
    "# 0 대한항공 서울 도쿄 10 5\n",
    "# 1 아시아나 부산 상하이 0 0\n",
    "# 2 제주항공 제주 서울 30 45\n",
    "# 3 티웨이 서울 제주 15 20\n",
    "# 4 진에어 광주 부산 5 10"
   ],
   "id": "26a3951693cf2959"
  },
  {
   "metadata": {
    "ExecuteTime": {
     "end_time": "2025-02-17T05:21:43.953353Z",
     "start_time": "2025-02-17T05:21:43.940290Z"
    }
   },
   "cell_type": "code",
   "source": [
    "df_flights = pd.DataFrame({\n",
    "    '항공사' :['대한항공','아시아나','제주항공','티웨이','진에어'],\n",
    "    '출발지' : ['서울','부산','제주','서울','광주'],\n",
    "    '도착지' : ['도쿄','상하이','서울','제주','부산'],\n",
    "    '출발 지연(분)' : [10, 0, 30, 15, 5],\n",
    "    '도착 지연(분)' : [5, 0, 45, 20, 10],\n",
    "})\n",
    "print(df_flights)\n",
    "delayed_10min_df = df_flights[df_flights['도착 지연(분)'] >= 10]\n",
    "print(delayed_10min_df)\n",
    "#\n",
    "delayed_10min_avg_df = delayed_10min_df['도착 지연(분)'].mean()\n",
    "print(delayed_10min_avg_df)"
   ],
   "id": "dd696473ec788dda",
   "outputs": [
    {
     "name": "stdout",
     "output_type": "stream",
     "text": [
      "    항공사 출발지  도착지  출발 지연(분)  도착 지연(분)\n",
      "0  대한항공  서울   도쿄        10         5\n",
      "1  아시아나  부산  상하이         0         0\n",
      "2  제주항공  제주   서울        30        45\n",
      "3   티웨이  서울   제주        15        20\n",
      "4   진에어  광주   부산         5        10\n",
      "    항공사 출발지 도착지  출발 지연(분)  도착 지연(분)\n",
      "2  제주항공  제주  서울        30        45\n",
      "3   티웨이  서울  제주        15        20\n",
      "4   진에어  광주  부산         5        10\n",
      "25.0\n"
     ]
    }
   ],
   "execution_count": 23
  },
  {
   "metadata": {},
   "cell_type": "code",
   "outputs": [],
   "execution_count": null,
   "source": [
    "# 🔹 응용 실습 2: CSV 파일을 읽고 저장하기\n",
    "# 문제:\n",
    "# 주어진 flights_data.csv 파일을 참고하여,\n",
    "#\n",
    "# 1) CSV 파일에서 데이터를 읽어 DataFrame으로 변환하세요.\n",
    "# 2) 특정 열을 기준으로 정렬하세요.\n",
    "# 출발 지연 시간이 긴 순서로 정렬\n",
    "# 3) 특정 조건을 만족하는 데이터를 필터링하고 새로운 CSV 파일로 저장하세요.\n",
    "# 특정 조건 필터링 (출발 지연 30분 이상인 항공편)\n"
   ],
   "id": "1b59d81adfefd386"
  },
  {
   "metadata": {
    "ExecuteTime": {
     "end_time": "2025-02-17T05:26:37.001834Z",
     "start_time": "2025-02-17T05:26:36.983833Z"
    }
   },
   "cell_type": "code",
   "source": [
    "df = pd.read_csv(\"flights_data.csv\")\n",
    "print(df)\n",
    "df_sorted = df.sort_values(by='출발 지연(분)',ascending=False)\n",
    "print(df_sorted)\n",
    "filtered_df = df_sorted[df_sorted['출발 지연(분)'] >= 30]\n",
    "print(filtered_df)\n",
    "filtered_df.to_csv(\"filtered_data_20250217.csv\")"
   ],
   "id": "ce60a94addaf2fe6",
   "outputs": [
    {
     "name": "stdout",
     "output_type": "stream",
     "text": [
      "    항공사 출발지  도착지  출발 지연(분)  도착 지연(분)\n",
      "0  대한항공  서울   도쿄        10         5\n",
      "1  아시아나  부산  상하이         0         0\n",
      "2  제주항공  제주   서울        30        45\n",
      "3   티웨이  서울   제주        15        20\n",
      "4   진에어  광주   부산         5        10\n",
      "    항공사 출발지  도착지  출발 지연(분)  도착 지연(분)\n",
      "2  제주항공  제주   서울        30        45\n",
      "3   티웨이  서울   제주        15        20\n",
      "0  대한항공  서울   도쿄        10         5\n",
      "4   진에어  광주   부산         5        10\n",
      "1  아시아나  부산  상하이         0         0\n",
      "    항공사 출발지 도착지  출발 지연(분)  도착 지연(분)\n",
      "2  제주항공  제주  서울        30        45\n"
     ]
    }
   ],
   "execution_count": 27
  },
  {
   "metadata": {},
   "cell_type": "code",
   "outputs": [],
   "execution_count": null,
   "source": [
    "# 🔹 응용 실습 3: 데이터 분석 및 통계 계산\n",
    "# 문제:\n",
    "# 주어진 flights_data.csv 파일을 참고하여,\n",
    "# CSV 파일에서 데이터를 읽어 DataFrame으로 변환하세요\n",
    "#\n",
    "# 1) groupby()를 사용하여 항공사별 평균 지연 시간을 계산하세요.\n",
    "# 2) 상관계수를 구하여 출발 지연과 도착 지연의 관계를 분석하세요.\n",
    "# 3) apply()를 활용하여 사용자 정의 함수로 지연 시간을 조정하세요.\n",
    "# 3. 사용자 정의 함수 적용 (지연 시간이 30분 이상이면 '긴 지연', 아니면 '보통')"
   ],
   "id": "6e93f8c9a917f641"
  },
  {
   "metadata": {
    "ExecuteTime": {
     "end_time": "2025-02-17T05:33:20.803295Z",
     "start_time": "2025-02-17T05:33:20.790005Z"
    }
   },
   "cell_type": "code",
   "source": [
    "df = pd.read_csv(\"flights_data.csv\")\n",
    "print(df)\n",
    "df_delayed = df.groupby('항공사')[['출발 지연(분)','도착 지연(분)' ]].mean()\n",
    "print(df_delayed)\n",
    "df_delayed_corr = df[['출발 지연(분)','도착 지연(분)' ]].corr().iloc[0,1]\n",
    "print(df_delayed_corr)"
   ],
   "id": "a610b0be6c0e8b41",
   "outputs": [
    {
     "name": "stdout",
     "output_type": "stream",
     "text": [
      "    항공사 출발지  도착지  출발 지연(분)  도착 지연(분)\n",
      "0  대한항공  서울   도쿄        10         5\n",
      "1  대한항공  서울  오사카        30        15\n",
      "2  대한항공  서울   태국        40        35\n",
      "3  아시아나  부산  상하이         0         0\n",
      "4  아시아나  부산  필리핀         0         0\n",
      "5  제주항공  제주   서울        30        45\n",
      "6   티웨이  서울   제주        15        20\n",
      "7   진에어  광주   부산         5        10\n",
      "       출발 지연(분)   도착 지연(분)\n",
      "항공사                       \n",
      "대한항공  26.666667  18.333333\n",
      "아시아나   0.000000   0.000000\n",
      "제주항공  30.000000  45.000000\n",
      "진에어    5.000000  10.000000\n",
      "티웨이   15.000000  20.000000\n",
      "0.846102230453832\n"
     ]
    }
   ],
   "execution_count": 32
  },
  {
   "metadata": {
    "ExecuteTime": {
     "end_time": "2025-02-17T05:38:34.413405Z",
     "start_time": "2025-02-17T05:38:34.406307Z"
    }
   },
   "cell_type": "code",
   "source": [
    "# 3) apply()를 활용하여 사용자 정의 함수로 지연 시간을 조정하세요.\n",
    "# # 3. 사용자 정의 함수 적용 (지연 시간이 30분 이상이면 '긴 지연', 아니면 '보통')\n",
    "\n",
    "def delay_category(minutes):\n",
    "    return \"긴지연\" if minutes >=30 else \"보통\"\n",
    "df['지연등급'] = df['출발 지연(분)'].apply(delay_category)\n",
    "print(df)"
   ],
   "id": "c56e857b09fc1d41",
   "outputs": [
    {
     "name": "stdout",
     "output_type": "stream",
     "text": [
      "    항공사 출발지  도착지  출발 지연(분)  도착 지연(분) 지연등급\n",
      "0  대한항공  서울   도쿄        10         5   보통\n",
      "1  대한항공  서울  오사카        30        15  긴지연\n",
      "2  대한항공  서울   태국        40        35  긴지연\n",
      "3  아시아나  부산  상하이         0         0   보통\n",
      "4  아시아나  부산  필리핀         0         0   보통\n",
      "5  제주항공  제주   서울        30        45  긴지연\n",
      "6   티웨이  서울   제주        15        20   보통\n",
      "7   진에어  광주   부산         5        10   보통\n"
     ]
    }
   ],
   "execution_count": 34
  }
 ],
 "metadata": {
  "kernelspec": {
   "display_name": "Python 3",
   "language": "python",
   "name": "python3"
  },
  "language_info": {
   "codemirror_mode": {
    "name": "ipython",
    "version": 2
   },
   "file_extension": ".py",
   "mimetype": "text/x-python",
   "name": "python",
   "nbconvert_exporter": "python",
   "pygments_lexer": "ipython2",
   "version": "2.7.6"
  }
 },
 "nbformat": 4,
 "nbformat_minor": 5
}
