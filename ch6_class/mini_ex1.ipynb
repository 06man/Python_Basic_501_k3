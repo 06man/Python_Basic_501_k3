{
 "cells": [
  {
   "cell_type": "code",
   "id": "initial_id",
   "metadata": {
    "collapsed": true,
    "ExecuteTime": {
     "end_time": "2025-02-14T03:06:57.471383Z",
     "start_time": "2025-02-14T03:06:57.466068Z"
    }
   },
   "source": [
    "from sympy.physics.units import amount\n",
    "\n",
    "\n",
    "# 🔹 기본 실습 1: 클래스와 객체 생성\n",
    "#\n",
    "# 문제:\n",
    "# 클래스를 정의하고, 이를 사용하여 객체를 생성한 후, 해당 객체의 속성을 출력하세요.\n",
    "#\n",
    "# 클래스 : Person,\n",
    "# 속성: name, age\n",
    "# 메서드 : introduce\n",
    "# 안녕하세요, 저는 철수이고 25살입니다.\n",
    "class Person:\n",
    "    def __init__(self, name, age):\n",
    "        self.name = name\n",
    "        self.age = age\n",
    "    def introduce(self):\n",
    "        return f\"안녕하세요, 저는 {self.name}이고 {self.age}살입니다.\"\n",
    "person1 = Person(\"철수\",25)\n",
    "print(person1.introduce())"
   ],
   "outputs": [
    {
     "name": "stdout",
     "output_type": "stream",
     "text": [
      "안녕하세요, 저는 철수이고 25살입니다.\n"
     ]
    }
   ],
   "execution_count": 1
  },
  {
   "metadata": {
    "ExecuteTime": {
     "end_time": "2025-02-14T03:09:22.505328Z",
     "start_time": "2025-02-14T03:09:22.499135Z"
    }
   },
   "cell_type": "code",
   "source": [
    "# 🔹 기본 실습 2: 상속과 메서드 오버라이딩\n",
    "# 문제:\n",
    "# 부모 클래스 Animal 를 상속받아 새로운 클래스 Dog , Cat를 만들고,\n",
    "# 메서드 sound 를 오버라이딩하여 다르게 동작하도록 구현하세요.\n",
    "class Animal:\n",
    "    def sound(self):\n",
    "        return \"소리 내기\"\n",
    "class Dog(Animal):\n",
    "    def sound(self):\n",
    "        return \"멍멍\"\n",
    "class Cat(Animal):\n",
    "    def sound(self):\n",
    "        return \"야옹\"\n",
    "dog = Dog()\n",
    "cat = Cat()\n",
    "print(dog.sound())\n",
    "print(cat.sound())"
   ],
   "id": "b9914065a194ee23",
   "outputs": [
    {
     "name": "stdout",
     "output_type": "stream",
     "text": [
      "멍멍\n",
      "야옹\n"
     ]
    }
   ],
   "execution_count": 2
  },
  {
   "metadata": {
    "ExecuteTime": {
     "end_time": "2025-02-14T03:14:42.099996Z",
     "start_time": "2025-02-14T03:14:42.093071Z"
    }
   },
   "cell_type": "code",
   "source": [
    "# 🔹 기본 실습 3: 캡슐화 (가시성 제어)\n",
    "# 문제:\n",
    "# 클래스 BankAccount 에서 속성 owner, balance을 (__balance) private으로 선언하고,\n",
    "# 이를 접근하는 getter(get_balance) 및 setter(deposit) 메서드를 구현하세요.\n",
    "class BankAccount:\n",
    "    def __init__(self, balance, owner):\n",
    "        self.__balance = balance\n",
    "        self.owner = owner\n",
    "\n",
    "    def get_balance(self):\n",
    "        return self.__balance\n",
    "\n",
    "    def deposit(self, amount):\n",
    "        if amount > 0:\n",
    "            self.__balance += amount\n",
    "            print(f\"{amount} 원이 입금되었습니다.\")\n",
    "        else:\n",
    "            print(f\"입금 금액이 0보다 커야 합니다.\")\n",
    "account = BankAccount(10000, \"상용\")\n",
    "print(f\"현재 잔액: {account.get_balance()} 원\")\n",
    "account.deposit(100)\n",
    "print(\"deposit(100) 입금 후\")\n",
    "print(f\"현재 잔액: {account.get_balance()} 원\")"
   ],
   "id": "437ed48b11b1c587",
   "outputs": [
    {
     "name": "stdout",
     "output_type": "stream",
     "text": [
      "현재 잔액: 10000 원\n",
      "100 원이 입금되었습니다.\n",
      "deposit(100) 입금 후\n",
      "현재 잔액: 10100 원\n"
     ]
    }
   ],
   "execution_count": 5
  },
  {
   "metadata": {
    "ExecuteTime": {
     "end_time": "2025-02-14T03:17:57.083503Z",
     "start_time": "2025-02-14T03:17:57.076517Z"
    }
   },
   "cell_type": "code",
   "source": [
    "# 🔹 응용 실습 1: 직원 관리 시스템 (클래스 및 인스턴스 활용)\n",
    "# 문제:\n",
    "# Employee 클래스를 만들고,\n",
    "# 직원 정보( name, position, salary)를 저장 및 출력(get_info)하는 프로그램을 작성하세요.\n",
    "class Employee:\n",
    "    def __init__(self, name, position, salary):\n",
    "        self.name = name\n",
    "        self.position = position\n",
    "        self.salary = salary\n",
    "    def get_info(self):\n",
    "        return (f\"이름: {self.name}, 직급: {self.position}\"\n",
    "                f\", 급여 : {self.salary}\")\n",
    "emp1 = Employee(\"이상용\", \"강사\",\"100\")\n",
    "emp1.get_info()"
   ],
   "id": "ce6b260da1fba9b",
   "outputs": [
    {
     "data": {
      "text/plain": [
       "'이름: 이상용, 직급: 강사, 급여 : 100'"
      ]
     },
     "execution_count": 6,
     "metadata": {},
     "output_type": "execute_result"
    }
   ],
   "execution_count": 6
  },
  {
   "metadata": {
    "ExecuteTime": {
     "end_time": "2025-02-14T03:23:44.201755Z",
     "start_time": "2025-02-14T03:23:44.190627Z"
    }
   },
   "cell_type": "code",
   "source": [
    "# 🔹 응용 실습 2: 도서 관리 시스템 (상속 및 다형성 활용)\n",
    "# 문제:\n",
    "# 도서 Book , 전자책 EBook, 종이책 PaperBook 클래스를 구현하고,\n",
    "# display_info() 메서드를 다형성을 적용하여 다르게 동작하도록 만드세요.\n",
    "class Book:\n",
    "    def __init__(self, title, author):\n",
    "        self.title = title\n",
    "        self.author = author\n",
    "    def display_info(self):\n",
    "        return f\"도서 제목: {self.title}, 저자: {self.author}\"\n",
    "class EBook(Book):\n",
    "    def __init__(self, title, author, price):\n",
    "        super().__init__(title, author)\n",
    "        self.price = price\n",
    "    def display_info(self):\n",
    "        return f\"전자책 제목: {self.title}, 저자: {self.author}, 가격:{str(self.price)}\"\n",
    "class PaperBook(Book):\n",
    "    def __init__(self, title, author, pages):\n",
    "        super().__init__(title, author)\n",
    "        self.pages = pages\n",
    "    def display_info(self):\n",
    "        return f\"종이책 제목: {self.title}, 저자: {self.author}, 페이지수:{str(self.pages)}\"\n",
    "ebook = EBook(\"인공지능1\",\"이상용\",100)\n",
    "print(ebook.display_info())\n",
    "paper_book = PaperBook(\"인공지능1\",\"이상용\",200)\n",
    "print(paper_book.display_info())"
   ],
   "id": "7293f24d10beb70c",
   "outputs": [
    {
     "name": "stdout",
     "output_type": "stream",
     "text": [
      "전자책 제목: 인공지능1, 저자: 이상용, 가격:100\n",
      "종이책 제목: 인공지능1, 저자: 이상용, 페이지수:200\n"
     ]
    }
   ],
   "execution_count": 8
  },
  {
   "metadata": {
    "ExecuteTime": {
     "end_time": "2025-02-14T03:34:55.798059Z",
     "start_time": "2025-02-14T03:34:55.790872Z"
    }
   },
   "cell_type": "code",
   "source": [
    "# 🔹 응용 실습 3: 자동차 관리 시스템 (캡슐화 및 메서드 활용)\n",
    "# 문제:\n",
    "# 자동차 Car 의 연료 잔량을 관리하는 시스템을 만들고,\n",
    "# 캡슐화를 적용하여 연료의 상태를 private으로 보호하세요.\n",
    "# 속성: model, fuel\n",
    "# 게터: get_fuel\n",
    "# 메서드 : drive(self, distance)\n",
    "# refuel(self, amount): # 연료 추가\n",
    "class Car:\n",
    "    def __init__(self, fuel, model):\n",
    "        self.__fuel = fuel\n",
    "        self.model = model\n",
    "    def get_fuel(self):\n",
    "        return self.__fuel\n",
    "    def drive(self, distance):\n",
    "        fuel_needed = distance * 0.1 # 연료 소비량 예시 10km , 1L\n",
    "        if self.__fuel >= fuel_needed:\n",
    "            self.__fuel -= fuel_needed\n",
    "            print(f\"{distance}km 주행 확인, 남은 연료: {self.__fuel}\")\n",
    "        else:\n",
    "            print(\"연료가 부족합니다. 주유 해주세요.\")\n",
    "    def refuel(self, amount):\n",
    "        self.__fuel += amount\n",
    "        print(f\"{amount}L 주유 완료. 현재 연료량: {self.__fuel}\")\n",
    "my_car = Car(20,\"카니발\")\n",
    "print(\"현재 연료 상태 조회\")\n",
    "my_car.drive(30)\n",
    "my_car.refuel(50)\n",
    "my_car.drive(300)"
   ],
   "id": "f1c3f1114de9d873",
   "outputs": [
    {
     "name": "stdout",
     "output_type": "stream",
     "text": [
      "현재 연료 상태 조회\n",
      "30km 주행 확인, 남은 연료: 17.0\n",
      "50L 주유 완료. 현재 연료량: 67.0\n",
      "300km 주행 확인, 남은 연료: 37.0\n"
     ]
    }
   ],
   "execution_count": 12
  }
 ],
 "metadata": {
  "kernelspec": {
   "display_name": "Python 3",
   "language": "python",
   "name": "python3"
  },
  "language_info": {
   "codemirror_mode": {
    "name": "ipython",
    "version": 2
   },
   "file_extension": ".py",
   "mimetype": "text/x-python",
   "name": "python",
   "nbconvert_exporter": "python",
   "pygments_lexer": "ipython2",
   "version": "2.7.6"
  }
 },
 "nbformat": 4,
 "nbformat_minor": 5
}
